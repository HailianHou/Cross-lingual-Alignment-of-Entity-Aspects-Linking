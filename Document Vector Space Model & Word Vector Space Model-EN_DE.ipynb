{
 "cells": [
  {
   "cell_type": "code",
   "execution_count": 260,
   "metadata": {
    "collapsed": false
   },
   "outputs": [
    {
     "name": "stdout",
     "output_type": "stream",
     "text": [
      "[nltk_data] Downloading package wordnet to\n",
      "[nltk_data]     /Users/hailianhou/nltk_data...\n",
      "[nltk_data]   Package wordnet is already up-to-date!\n",
      "[nltk_data] Downloading package stopwords to\n",
      "[nltk_data]     /Users/hailianhou/nltk_data...\n",
      "[nltk_data]   Package stopwords is already up-to-date!\n"
     ]
    }
   ],
   "source": [
    "import pandas as pd\n",
    "import numpy as np\n",
    "import csv\n",
    "import nltk\n",
    "from nltk.stem import PorterStemmer\n",
    "from nltk.tokenize import WordPunctTokenizer\n",
    "from nltk.stem.wordnet import WordNetLemmatizer\n",
    "from sklearn.feature_extraction.text import CountVectorizer\n",
    "from sklearn.feature_extraction.text import TfidfTransformer\n",
    "nltk.download('wordnet')\n",
    "nltk.download(\"stopwords\")\n",
    "from nltk.corpus import stopwords\n",
    "esw = stopwords.words(\"english\")+['edit']\n",
    "from string import punctuation"
   ]
  },
  {
   "cell_type": "code",
   "execution_count": 2,
   "metadata": {
    "collapsed": true
   },
   "outputs": [],
   "source": [
    "from googletrans import Translator\n",
    "from collections import defaultdict"
   ]
  },
  {
   "cell_type": "code",
   "execution_count": 3,
   "metadata": {
    "collapsed": true
   },
   "outputs": [],
   "source": [
    "import json\n",
    "import math"
   ]
  },
  {
   "cell_type": "markdown",
   "metadata": {},
   "source": [
    "# base knowledge:\n",
    "1. for each wikipedia term, there is a term name\n",
    "2. for each wikipedia term, its English page was crawled as source text in language a -\"en\": source_a\n",
    "3. for each wikipedia term, its German page was crawled as source text in language b -\"de\": source_b\n",
    "4. for each source page in language b -\"de\", it will be translated into language a, saved as translation_b_to_a\n",
    "5. links between source_a and source_b are to be represented by the links between source-a and translation_b_to_a\n",
    "\n"
   ]
  },
  {
   "cell_type": "markdown",
   "metadata": {},
   "source": [
    "# getTranslationRun Function"
   ]
  },
  {
   "cell_type": "code",
   "execution_count": 4,
   "metadata": {
    "collapsed": true
   },
   "outputs": [],
   "source": [
    "### translate the text in the format of dictionary from src language into dest language\n",
    "\n",
    "##input:\n",
    "# text: text in dictionary format {}\n",
    "# la1: source language b of the text \n",
    "# la2: target language a the text to be translated into\n",
    "# termname: term name of the text\n",
    "\n",
    "def getTranslationRun(text, src_b, dest_a, termname):\n",
    "    text = text\n",
    "    dest = dest_a\n",
    "    translator = Translator()\n",
    "    dict_trans = defaultdict(list)\n",
    "    headline = list(text.keys())\n",
    "    for el in headline:\n",
    "        h = translator.translate(text = el, dest = dest)\n",
    "        t = translator.translate(text = text[el], dest = dest)\n",
    "        for m in t:\n",
    "            dict_trans[h.text].append(m.text)\n",
    "            #print(m.text)\n",
    "\n",
    "    print(dict_trans)\n",
    "    return dict_trans"
   ]
  },
  {
   "cell_type": "code",
   "execution_count": 5,
   "metadata": {
    "collapsed": true
   },
   "outputs": [],
   "source": [
    "import requests\n"
   ]
  },
  {
   "cell_type": "markdown",
   "metadata": {},
   "source": [
    "# data preprocessing Function"
   ]
  },
  {
   "cell_type": "code",
   "execution_count": 255,
   "metadata": {
    "collapsed": true
   },
   "outputs": [],
   "source": [
    "# data preprocessing function\n",
    "\n",
    "def toLowerList(List):\n",
    "    for i in range(len(List)):\n",
    "        List[i] = List[i].lower()\n",
    "    return List\n",
    "\n",
    "def tokenizeDVSM(file):\n",
    "    i = 0\n",
    "    tokenizer = WordPunctTokenizer()\n",
    "    for el in file:\n",
    "        file[i] = ' '.join(tokenizer.tokenize(str(el)))\n",
    "        i += 1       \n",
    "\n",
    "def removeStopwords(file):\n",
    "    i = 0\n",
    "    for el in file:\n",
    "        el = ' '.join([word for word in el.split() if word not in esw])\n",
    "        file[i] = el\n",
    "        i += 1\n",
    "\n",
    "punctuation = punctuation + str('%.[')+str('(/')+str(');[')+str('\"),')+str(').')+str('.[')+str(',[')+str('][')+str('(\"')+str('.\"[')+str('—'+str('.\"'))+str('.,')\n",
    "def removePunctuation(file):\n",
    "    \n",
    "    i = 0\n",
    "    for el in file:\n",
    "        el = ' '.join([word for word in el.split() if word not in punctuation])\n",
    "        file[i] = el\n",
    "        i += 1\n",
    "\n",
    "def stemming(file):\n",
    "    ps = PorterStemmer()\n",
    "    i = 0\n",
    "    for el in file:\n",
    "        el = ' '.join([ps.stem(word) for word in el.lower().split() ])\n",
    "        file[i] = el\n",
    "        i += 1\n",
    "\n",
    "def removeNumbers(file):\n",
    "    i = 0\n",
    "    for el in file:\n",
    "        file[i] = ' '.join([word for word in el.split() if not word.isdigit()])\n",
    "        i+=1\n",
    "\n",
    "        \n",
    "def lemmatize_n(file):\n",
    "    lemmatizer = WordNetLemmatizer()\n",
    "    i = 0\n",
    "    for el in file:\n",
    "        el = ' '.join([lemmatizer.lemmatize(word, pos = 'n') for word in el.lower().split() ])\n",
    "        file[i] = el\n",
    "        i += 1\n",
    "\n",
    "\n",
    "def lemmatize_v(file):\n",
    "    lemmatizer = WordNetLemmatizer()\n",
    "    i = 0\n",
    "    for el in file:\n",
    "        el = ' '.join([lemmatizer.lemmatize(word, pos = 'v') for word in el.lower().split() ])\n",
    "        file[i] = el\n",
    "        i += 1\n",
    "        \n",
    "\n",
    "def lemmatize_a(file):\n",
    "    lemmatizer = WordNetLemmatizer()\n",
    "    i = 0\n",
    "    for el in file:\n",
    "        el = ' '.join([lemmatizer.lemmatize(word, pos = 'a') for word in el.lower().split() ])\n",
    "        file[i] = el\n",
    "        i += 1\n",
    "        \n",
    "def lemmatize_r(file):\n",
    "    lemmatizer = WordNetLemmatizer()\n",
    "    i = 0\n",
    "    for el in file:\n",
    "        el = ' '.join([lemmatizer.lemmatize(word, pos = 'r') for word in el.lower().split() ])\n",
    "        file[i] = el\n",
    "        i += 1"
   ]
  },
  {
   "cell_type": "code",
   "execution_count": 256,
   "metadata": {
    "collapsed": true
   },
   "outputs": [],
   "source": [
    "#preprocessing: tokenize, removing stopwords, punctuation, and stemming\n",
    "\n",
    "def preprocessing(content):\n",
    "    tokenizeDVSM(content)\n",
    "    removePunctuation(content)\n",
    "    removeStopwords(content)\n",
    "    removeNumbers(content)\n",
    "    ### lemmatization, NOUNs\n",
    "    lemmatize_n(content)\n",
    "    ### lemmatization, Verbs\n",
    "    lemmatize_v(content)\n",
    "    ### lemmatization, Adjactives\n",
    "    lemmatize_a(content)\n",
    "    ### lemmatization\n",
    "    lemmatize_r(content)"
   ]
  },
  {
   "cell_type": "markdown",
   "metadata": {},
   "source": [
    "# DTM, Query-vector building"
   ]
  },
  {
   "cell_type": "code",
   "execution_count": 175,
   "metadata": {
    "collapsed": true
   },
   "outputs": [],
   "source": [
    "##### build functions to generate document-term matrix\n",
    "\n",
    "## get DTM, weighted by tfidf, the sqrt of the query vector is 1\n",
    "# therefore, in the retrive phase, \n",
    "# dot product of the doc vector and query vector can be used to represent the cosine similarity\n",
    "\n",
    "# input format: train_doc_file.text\n",
    "\n",
    "def get_DTM_tfidf(file):\n",
    "    train_count_vect = CountVectorizer() #remove english stopwords\n",
    "    X_train_counts = train_count_vect.fit_transform(file)\n",
    "    vocabulary = list(train_count_vect.vocabulary_.keys())\n",
    "    #print(vocabulary)\n",
    "\n",
    "    tfidf_transformer = TfidfTransformer()\n",
    "    \n",
    "    X_train_tfidf = CountVectorizer(vocabulary = vocabulary)\n",
    "    X_train_tfidf = X_train_tfidf.fit_transform(file)\n",
    "    \n",
    "    X_train_tfidf = tfidf_transformer.fit_transform(X_train_tfidf)\n",
    "    return X_train_tfidf\n",
    "\n",
    "\n",
    "## get DTM, weighted by term frequency\n",
    "def get_DTM_tf(file):\n",
    "    train_count_vect = CountVectorizer() #remove english stopwords\n",
    "    X_train_counts = train_count_vect.fit_transform(file)\n",
    "    vocabulary = list(train_count_vect.vocabulary_.keys())\n",
    "\n",
    "    X_train_tf = CountVectorizer(vocabulary = vocabulary)\n",
    "    X_train_tf = X_train_tf.fit_transform(file)\n",
    "    return X_train_tf\n"
   ]
  },
  {
   "cell_type": "code",
   "execution_count": 176,
   "metadata": {
    "collapsed": true
   },
   "outputs": [],
   "source": [
    "###Generate query vector for each query\n",
    "\n",
    "# get_QueryVector_tfidf helps to get the tiidf weighted query vector, the sqrt of the query vector is 1\n",
    "# therefore, in the retrive phase, \n",
    "# dot product of the doc vector and query vector can be used to represent the cosine similarity\n",
    "\n",
    "# input format: train_doc_file.text, train_query_file.text\n",
    "\n",
    "\n",
    "def get_QueryVector_tfidf(queryFile, docFile):\n",
    "    train_count_vect = CountVectorizer() #remove english stopwords\n",
    "    X_train_counts = train_count_vect.fit_transform(docFile)\n",
    "    vocabulary = list(train_count_vect.vocabulary_.keys())\n",
    "    \n",
    "    if type(queryFile) is str:\n",
    "        query_vect = []\n",
    "        query = queryFile\n",
    "        query = query.split()\n",
    "        frequency = defaultdict(int)\n",
    "        for el in vocabulary:\n",
    "            if el in query:\n",
    "                frequency[el]+= 1\n",
    "            else:\n",
    "                frequency[el] = 0\n",
    "        query_vect = list(dict(frequency).values())/np.linalg.norm(list(dict(frequency).values()))\n",
    "        \n",
    "    else:\n",
    "        tfidf_transformer = TfidfTransformer()\n",
    "        \n",
    "        query_vect = CountVectorizer(analyzer = \"word\", vocabulary = vocabulary)\n",
    "        query_vect = query_vect.fit_transform(queryFile)\n",
    "        \n",
    "        query_vect = tfidf_transformer.fit_transform(query_vect)\n",
    "    return query_vect\n",
    "\n",
    "\n",
    "\n",
    "###Generate the query vector, weighted by term frequency\n",
    "def get_QueryVector(queryFile, docFile):\n",
    "    train_count_vect = CountVectorizer() #remove english stopwords\n",
    "    X_train_counts = train_count_vect.fit_transform(docFile)\n",
    "    vocabulary = list(train_count_vect.vocabulary_.keys())\n",
    "    \n",
    "    if type(queryFile) is str:\n",
    "        query_vect = []\n",
    "        query = queryFile\n",
    "        query = query.split()\n",
    "        frequency = defaultdict(int)\n",
    "        for el in vocabulary:\n",
    "            if el in query:\n",
    "                frequency[el]+= 1\n",
    "            else:\n",
    "                frequency[el] = 0\n",
    "        query_vect = list(dict(frequency).values())\n",
    "        \n",
    "    else:\n",
    "        query_vect = CountVectorizer(analyzer = \"word\", vocabulary = vocabulary)\n",
    "        query_vect = query_vect.fit_transform(queryFile)\n",
    "        \n",
    "    return query_vect"
   ]
  },
  {
   "cell_type": "markdown",
   "metadata": {},
   "source": [
    "# cosine similarity Function"
   ]
  },
  {
   "cell_type": "code",
   "execution_count": 177,
   "metadata": {
    "collapsed": true
   },
   "outputs": [],
   "source": [
    "# input: 1* n dims sparse matrix, or single vector from query_vect/ train_tfidf matrix\n",
    "def getSquareSum(vector):\n",
    "    squaresum = 0\n",
    "    for i in range(vector.shape[1]):\n",
    "        squaresum += vector[0,i]* vector[0,i]\n",
    "        \n",
    "    return squaresum "
   ]
  },
  {
   "cell_type": "code",
   "execution_count": 178,
   "metadata": {
    "collapsed": true
   },
   "outputs": [],
   "source": [
    "# input: 1* n sparse matrix, or single vector from query_vect/ train_tfidf matrix\n",
    "# return the cosine sim of two vectors\n",
    "\n",
    "def getCosineSimilarity(query_vector, doc_vector):\n",
    "    squaresum_query = getSquareSum(query_vector)\n",
    "    squaresum_doc= getSquareSum(doc_vector)\n",
    "    if math.sqrt(squaresum_query)*math.sqrt(squaresum_doc) > 0:\n",
    "        sim = np.dot(query_vector, doc_vector.transpose())[0,0]/(math.sqrt(squaresum_query)*math.sqrt(squaresum_doc))\n",
    "        return sim\n",
    "    else:\n",
    "        return np.dot(query_vector, doc_vector.transpose())[0,0]\n",
    " "
   ]
  },
  {
   "cell_type": "markdown",
   "metadata": {},
   "source": [
    "# getVectorSpaceModelRun Function\n",
    "\n",
    "link headlines in the source text with headline in the translation text through cosinesimilarity"
   ]
  },
  {
   "cell_type": "code",
   "execution_count": 179,
   "metadata": {
    "collapsed": true
   },
   "outputs": [],
   "source": [
    "# src_content: is the source page data of the wikipedia item in laguage a\n",
    "# trs_content: is the translation data of the wikipedia item from language b to language a\n",
    "# we link the headlines of the wikipedia item in different languages through translation text and source text\n",
    "# further more, link of headlines is predicted through similarity between the text vectors below the headlines\n",
    "# b: source language b of the text \n",
    "# a: target language a the text to be translated into\n",
    "# termname: term name of the text\n",
    "\n",
    "# return: RUN file for Trec_eval\n",
    "\n",
    "def getDocumentVectorSpaceModelRun(trs_content, src_content, la1, la2, termname):    \n",
    "    ### get the similarity of query with each doc leader\n",
    "    queryVector = get_QueryVector_tfidf(trs_content, src_content)\n",
    "    src_DTM = get_DTM_tfidf(src_content)\n",
    "    \n",
    "    result = []\n",
    "    for j in range(queryVector.shape[0]):\n",
    "        \n",
    "        sims = []\n",
    "        results_ID = []\n",
    "        results = []\n",
    "        for i in range(src_DTM.shape[0]):\n",
    "            s = getCosineSimilarity(queryVector[j], src_DTM[i,])\n",
    "            #if type(s)is not None:\n",
    "            sims.append(s)\n",
    "\n",
    "        \n",
    "        for x in range(len(sims)):\n",
    "            if sims[x] >0:\n",
    "                results_ID.append(x)\n",
    "                results.append(sims[x])\n",
    "        \n",
    "        #print(results, results_ID)\n",
    "        \n",
    "        if len(results) >0 and len(results_ID)>0:\n",
    "            results, results_ID= zip(*sorted(zip(results, results_ID), reverse=True))      \n",
    "       \n",
    "        \n",
    "        for m in range(len(results)):\n",
    "            result.append([la1+'_'+termname+\"_h\"+str(j), 0, la2+'_'+termname+'_h'+str(results_ID[m]), m, results[m], 'cosinesims'])\n",
    "\n",
    "    df = pd.DataFrame(result)\n",
    "    if len(trs_content[0].split()) > 10 and len(src_content[0].split())>10 :\n",
    "        df.to_csv('DWSM_'+termname+'_'+la1+'_'+la2+'_text.txt', header=None, index=None, sep=' ', mode='a')\n",
    "    elif len(trs_content[0].split()) < 10 and len(src_content[0].split())<10:\n",
    "        df.to_csv('DWSM_'+termname+'_'+la1+'_'+la2+'_headline.txt', header=None, index=None, sep=' ', mode='a')\n",
    "    elif len(trs_content[0].split()) < 10 and len(src_content[0].split())>10:\n",
    "        df.to_csv('DWSM_'+termname+'_'+la1+'_'+la2+'_headline_text.txt', header=None, index=None, sep=' ', mode='a')\n",
    "    else:\n",
    "        df.to_csv('DWSM_'+termname+'_'+la1+'_'+la2+'_text_headline.txt', header=None, index=None, sep=' ', mode='a')     \n",
    "    \n",
    "    print(df)"
   ]
  },
  {
   "cell_type": "markdown",
   "metadata": {},
   "source": [
    "# Make Functions Run!\n",
    "1. data loading as source_a and source_b\n",
    "2. translating source_b into transaltion_b_to_a\n",
    "3. data preprocessing \n",
    "4. make baseline run(headlines)\n",
    "5. make cross link run(contexts)\n",
    "\n"
   ]
  },
  {
   "cell_type": "markdown",
   "metadata": {},
   "source": [
    "# Document Vector Space Model"
   ]
  },
  {
   "cell_type": "code",
   "execution_count": 32,
   "metadata": {
    "collapsed": true
   },
   "outputs": [],
   "source": [
    "from gensim.models import KeyedVectors\n",
    "\n",
    "# importing word vector for WVSM\n",
    "en_model = KeyedVectors.load_word2vec_format('/Users/hailianhou/Desktop/MasterThesis/Wiki Data/wiki-news-300d-1M.vec')"
   ]
  },
  {
   "cell_type": "code",
   "execution_count": 754,
   "metadata": {
    "collapsed": true
   },
   "outputs": [],
   "source": [
    "# define the entity list\n",
    "#entity_list = ['Russia','singapore','India', 'Israel','Brazil',] for EN, ZH\n",
    "#entity_list = [Asia, Europe, Italy, United_Kingdom] Done\n",
    "#entity_list = ['Canada', 'China', 'France', 'Germany', 'Japan'] for DE\n",
    "\n",
    "#entity_list =  ['Philippines', 'New_York_City',\n",
    "#'London','Singapore''Hong_Kong','Dubai','Los_Angeles','Paris','Chicago','Washington,_D.C.','San_Francisco',\n",
    "#'Mumbai','Rome','Toronto','Philadelphia','Monaco','Tokyo','Amsterdam','Boston','Barcelona','Peking']\n",
    "\n",
    "#entity_list = ['Barack_Obama', 'Donald_Trump']\n",
    "\n",
    "#entity_list = ['United_States']\n",
    "\n",
    "\n",
    "\n",
    "entity_name = 'Amsterdam'"
   ]
  },
  {
   "cell_type": "code",
   "execution_count": 755,
   "metadata": {
    "collapsed": false,
    "scrolled": true
   },
   "outputs": [],
   "source": [
    "# loading source data\n",
    "with open('/Users/hailianhou/Desktop/MasterThesis/FinalCode/DataCrawling/source_de_'+entity_name+'.json') as json_data:\n",
    "    source_de = json.load(json_data)\n",
    "\n",
    "with open('/Users/hailianhou/Desktop/MasterThesis/FinalCode/DataCrawling/source_en_'+entity_name+'.json') as json_data:\n",
    "    source_en = json.load(json_data)"
   ]
  },
  {
   "cell_type": "code",
   "execution_count": 757,
   "metadata": {
    "collapsed": false
   },
   "outputs": [],
   "source": [
    "#rename\n",
    "\n",
    "source_a = source_en\n",
    "source_b = source_de\n",
    "\n",
    "translation_b_to_a = translation_de_to_en\n"
   ]
  },
  {
   "cell_type": "code",
   "execution_count": 758,
   "metadata": {
    "collapsed": false
   },
   "outputs": [],
   "source": [
    "# exact headlies\n",
    "src_headline = list(source_a.keys())\n",
    "trs_headline = list(translation_b_to_a .keys())\n",
    "\n",
    "#extract context\n",
    "src_content = []\n",
    "trs_content = []\n",
    "for el in src_headline:\n",
    "    src_content.append(''.join(source_a[el]))\n",
    "for el in trs_headline:\n",
    "    trs_content.append(''.join(translation_b_to_a[el]))"
   ]
  },
  {
   "cell_type": "code",
   "execution_count": 759,
   "metadata": {
    "collapsed": false,
    "scrolled": true
   },
   "outputs": [],
   "source": [
    "preprocessing(src_content)\n",
    "preprocessing(trs_content)\n",
    "\n",
    "preprocessing(src_headline)\n",
    "preprocessing(trs_headline)"
   ]
  },
  {
   "cell_type": "code",
   "execution_count": 760,
   "metadata": {
    "collapsed": false,
    "scrolled": true
   },
   "outputs": [
    {
     "name": "stdout",
     "output_type": "stream",
     "text": [
      "                    0  1                2  3         4           5\n",
      "0     en_Amsterdam_h0  0  de_Amsterdam_h0  0  0.538282  cosinesims\n",
      "1     en_Amsterdam_h0  0  de_Amsterdam_h7  1  0.528043  cosinesims\n",
      "2     en_Amsterdam_h0  0  de_Amsterdam_h3  2  0.468488  cosinesims\n",
      "3     en_Amsterdam_h0  0  de_Amsterdam_h1  3  0.333967  cosinesims\n",
      "4     en_Amsterdam_h0  0  de_Amsterdam_h6  4  0.289278  cosinesims\n",
      "5     en_Amsterdam_h0  0  de_Amsterdam_h4  5  0.271678  cosinesims\n",
      "6     en_Amsterdam_h0  0  de_Amsterdam_h5  6  0.214613  cosinesims\n",
      "7     en_Amsterdam_h0  0  de_Amsterdam_h2  7  0.154069  cosinesims\n",
      "8     en_Amsterdam_h0  0  de_Amsterdam_h8  8  0.081040  cosinesims\n",
      "9     en_Amsterdam_h1  0  de_Amsterdam_h3  0  0.206090  cosinesims\n",
      "10    en_Amsterdam_h1  0  de_Amsterdam_h0  1  0.110817  cosinesims\n",
      "11    en_Amsterdam_h1  0  de_Amsterdam_h4  2  0.071878  cosinesims\n",
      "12    en_Amsterdam_h1  0  de_Amsterdam_h5  3  0.052722  cosinesims\n",
      "13    en_Amsterdam_h1  0  de_Amsterdam_h7  4  0.051014  cosinesims\n",
      "14    en_Amsterdam_h1  0  de_Amsterdam_h6  5  0.042935  cosinesims\n",
      "15    en_Amsterdam_h1  0  de_Amsterdam_h2  6  0.042519  cosinesims\n",
      "16    en_Amsterdam_h1  0  de_Amsterdam_h8  7  0.034573  cosinesims\n",
      "17    en_Amsterdam_h2  0  de_Amsterdam_h3  0  0.601650  cosinesims\n",
      "18    en_Amsterdam_h2  0  de_Amsterdam_h7  1  0.484395  cosinesims\n",
      "19    en_Amsterdam_h2  0  de_Amsterdam_h0  2  0.435273  cosinesims\n",
      "20    en_Amsterdam_h2  0  de_Amsterdam_h1  3  0.376033  cosinesims\n",
      "21    en_Amsterdam_h2  0  de_Amsterdam_h4  4  0.301591  cosinesims\n",
      "22    en_Amsterdam_h2  0  de_Amsterdam_h6  5  0.254718  cosinesims\n",
      "23    en_Amsterdam_h2  0  de_Amsterdam_h5  6  0.236360  cosinesims\n",
      "24    en_Amsterdam_h2  0  de_Amsterdam_h2  7  0.185650  cosinesims\n",
      "25    en_Amsterdam_h2  0  de_Amsterdam_h8  8  0.058754  cosinesims\n",
      "26    en_Amsterdam_h3  0  de_Amsterdam_h0  0  0.426946  cosinesims\n",
      "27    en_Amsterdam_h3  0  de_Amsterdam_h7  1  0.422113  cosinesims\n",
      "28    en_Amsterdam_h3  0  de_Amsterdam_h2  2  0.364150  cosinesims\n",
      "29    en_Amsterdam_h3  0  de_Amsterdam_h3  3  0.320269  cosinesims\n",
      "..                ... ..              ... ..       ...         ...\n",
      "86    en_Amsterdam_h9  0  de_Amsterdam_h4  6  0.173377  cosinesims\n",
      "87    en_Amsterdam_h9  0  de_Amsterdam_h2  7  0.153359  cosinesims\n",
      "88    en_Amsterdam_h9  0  de_Amsterdam_h8  8  0.080619  cosinesims\n",
      "89   en_Amsterdam_h10  0  de_Amsterdam_h7  0  0.238567  cosinesims\n",
      "90   en_Amsterdam_h10  0  de_Amsterdam_h1  1  0.227695  cosinesims\n",
      "91   en_Amsterdam_h10  0  de_Amsterdam_h0  2  0.169320  cosinesims\n",
      "92   en_Amsterdam_h10  0  de_Amsterdam_h3  3  0.157688  cosinesims\n",
      "93   en_Amsterdam_h10  0  de_Amsterdam_h5  4  0.142314  cosinesims\n",
      "94   en_Amsterdam_h10  0  de_Amsterdam_h6  5  0.135178  cosinesims\n",
      "95   en_Amsterdam_h10  0  de_Amsterdam_h4  6  0.108915  cosinesims\n",
      "96   en_Amsterdam_h10  0  de_Amsterdam_h2  7  0.060019  cosinesims\n",
      "97   en_Amsterdam_h10  0  de_Amsterdam_h8  8  0.039269  cosinesims\n",
      "98   en_Amsterdam_h11  0  de_Amsterdam_h7  0  0.398228  cosinesims\n",
      "99   en_Amsterdam_h11  0  de_Amsterdam_h0  1  0.265304  cosinesims\n",
      "100  en_Amsterdam_h11  0  de_Amsterdam_h3  2  0.250537  cosinesims\n",
      "101  en_Amsterdam_h11  0  de_Amsterdam_h1  3  0.240050  cosinesims\n",
      "102  en_Amsterdam_h11  0  de_Amsterdam_h6  4  0.188173  cosinesims\n",
      "103  en_Amsterdam_h11  0  de_Amsterdam_h4  5  0.187234  cosinesims\n",
      "104  en_Amsterdam_h11  0  de_Amsterdam_h5  6  0.122766  cosinesims\n",
      "105  en_Amsterdam_h11  0  de_Amsterdam_h2  7  0.101124  cosinesims\n",
      "106  en_Amsterdam_h11  0  de_Amsterdam_h8  8  0.042072  cosinesims\n",
      "107  en_Amsterdam_h12  0  de_Amsterdam_h3  0  0.178789  cosinesims\n",
      "108  en_Amsterdam_h12  0  de_Amsterdam_h7  1  0.159690  cosinesims\n",
      "109  en_Amsterdam_h12  0  de_Amsterdam_h1  2  0.157446  cosinesims\n",
      "110  en_Amsterdam_h12  0  de_Amsterdam_h5  3  0.148759  cosinesims\n",
      "111  en_Amsterdam_h12  0  de_Amsterdam_h0  4  0.132413  cosinesims\n",
      "112  en_Amsterdam_h12  0  de_Amsterdam_h6  5  0.127247  cosinesims\n",
      "113  en_Amsterdam_h12  0  de_Amsterdam_h4  6  0.086685  cosinesims\n",
      "114  en_Amsterdam_h12  0  de_Amsterdam_h2  7  0.040416  cosinesims\n",
      "115  en_Amsterdam_h12  0  de_Amsterdam_h8  8  0.018727  cosinesims\n",
      "\n",
      "[116 rows x 6 columns]\n"
     ]
    }
   ],
   "source": [
    "# English-German aspects links through context--context \n",
    "\n",
    "getDocumentVectorSpaceModelRun(src_content, trs_content, 'en', 'de', entity_name)"
   ]
  },
  {
   "cell_type": "code",
   "execution_count": 761,
   "metadata": {
    "collapsed": false,
    "scrolled": false
   },
   "outputs": [
    {
     "name": "stdout",
     "output_type": "stream",
     "text": [
      "                 0  1                2  3         4           5\n",
      "0  en_Amsterdam_h0  0  de_Amsterdam_h0  0  1.000000  cosinesims\n",
      "1  en_Amsterdam_h2  0  de_Amsterdam_h3  0  0.920794  cosinesims\n",
      "2  en_Amsterdam_h3  0  de_Amsterdam_h2  0  0.920794  cosinesims\n",
      "3  en_Amsterdam_h5  0  de_Amsterdam_h5  0  0.920794  cosinesims\n",
      "4  en_Amsterdam_h6  0  de_Amsterdam_h7  0  0.677373  cosinesims\n",
      "5  en_Amsterdam_h7  0  de_Amsterdam_h6  0  0.920794  cosinesims\n",
      "6  en_Amsterdam_h8  0  de_Amsterdam_h4  0  0.920794  cosinesims\n"
     ]
    }
   ],
   "source": [
    "# English-German aspects linking through headline--headline\n",
    "\n",
    "getDocumentVectorSpaceModelRun(src_headline, trs_headline, 'en', 'de', entity_name)"
   ]
  },
  {
   "cell_type": "code",
   "execution_count": 762,
   "metadata": {
    "collapsed": false,
    "scrolled": true
   },
   "outputs": [
    {
     "name": "stdout",
     "output_type": "stream",
     "text": [
      "                   0  1                2  3         4           5\n",
      "0    en_Amsterdam_h0  0  de_Amsterdam_h0  0  0.988362  cosinesims\n",
      "1    en_Amsterdam_h0  0  de_Amsterdam_h7  1  0.083340  cosinesims\n",
      "2    en_Amsterdam_h0  0  de_Amsterdam_h1  2  0.080272  cosinesims\n",
      "3    en_Amsterdam_h2  0  de_Amsterdam_h0  0  0.998465  cosinesims\n",
      "4    en_Amsterdam_h2  0  de_Amsterdam_h1  1  0.049702  cosinesims\n",
      "5    en_Amsterdam_h3  0  de_Amsterdam_h0  0  1.000000  cosinesims\n",
      "6    en_Amsterdam_h4  0  de_Amsterdam_h0  0  0.998861  cosinesims\n",
      "7    en_Amsterdam_h4  0  de_Amsterdam_h6  1  0.043939  cosinesims\n",
      "8    en_Amsterdam_h5  0  de_Amsterdam_h0  0  0.893462  cosinesims\n",
      "9    en_Amsterdam_h5  0  de_Amsterdam_h5  1  0.347134  cosinesims\n",
      "10   en_Amsterdam_h5  0  de_Amsterdam_h1  2  0.162431  cosinesims\n",
      "11   en_Amsterdam_h5  0  de_Amsterdam_h3  3  0.074839  cosinesims\n",
      "12   en_Amsterdam_h5  0  de_Amsterdam_h6  4  0.054419  cosinesims\n",
      "13   en_Amsterdam_h6  0  de_Amsterdam_h0  0  0.945846  cosinesims\n",
      "14   en_Amsterdam_h6  0  de_Amsterdam_h1  1  0.292262  cosinesims\n",
      "15   en_Amsterdam_h6  0  de_Amsterdam_h7  2  0.065081  cosinesims\n",
      "16   en_Amsterdam_h7  0  de_Amsterdam_h0  0  0.998861  cosinesims\n",
      "17   en_Amsterdam_h7  0  de_Amsterdam_h6  1  0.043939  cosinesims\n",
      "18   en_Amsterdam_h8  0  de_Amsterdam_h0  0  0.871465  cosinesims\n",
      "19   en_Amsterdam_h8  0  de_Amsterdam_h1  1  0.293553  cosinesims\n",
      "20   en_Amsterdam_h8  0  de_Amsterdam_h7  2  0.023270  cosinesims\n",
      "21   en_Amsterdam_h9  0  de_Amsterdam_h0  0  0.992486  cosinesims\n",
      "22   en_Amsterdam_h9  0  de_Amsterdam_h6  1  0.071442  cosinesims\n",
      "23   en_Amsterdam_h9  0  de_Amsterdam_h1  2  0.028298  cosinesims\n",
      "24  en_Amsterdam_h10  0  de_Amsterdam_h0  0  0.931669  cosinesims\n",
      "25  en_Amsterdam_h10  0  de_Amsterdam_h3  1  0.304353  cosinesims\n",
      "26  en_Amsterdam_h10  0  de_Amsterdam_h4  2  0.117643  cosinesims\n",
      "27  en_Amsterdam_h10  0  de_Amsterdam_h6  3  0.073771  cosinesims\n",
      "28  en_Amsterdam_h11  0  de_Amsterdam_h0  0  1.000000  cosinesims\n",
      "29  en_Amsterdam_h12  0  de_Amsterdam_h0  0  1.000000  cosinesims\n"
     ]
    }
   ],
   "source": [
    "# English-German aspects linking through headline--content\n",
    "\n",
    "getDocumentVectorSpaceModelRun(src_content, trs_headline,  'en', 'de', entity_name)"
   ]
  },
  {
   "cell_type": "code",
   "execution_count": 763,
   "metadata": {
    "collapsed": false,
    "scrolled": true
   },
   "outputs": [
    {
     "name": "stdout",
     "output_type": "stream",
     "text": [
      "                   0  1                2  3         4           5\n",
      "0    en_Amsterdam_h0  0  de_Amsterdam_h1  0  0.632870  cosinesims\n",
      "1    en_Amsterdam_h0  0  de_Amsterdam_h0  1  0.407440  cosinesims\n",
      "2    en_Amsterdam_h0  0  de_Amsterdam_h7  2  0.406263  cosinesims\n",
      "3    en_Amsterdam_h0  0  de_Amsterdam_h6  3  0.276485  cosinesims\n",
      "4    en_Amsterdam_h0  0  de_Amsterdam_h3  4  0.209986  cosinesims\n",
      "5    en_Amsterdam_h0  0  de_Amsterdam_h5  5  0.172987  cosinesims\n",
      "6    en_Amsterdam_h0  0  de_Amsterdam_h4  6  0.124671  cosinesims\n",
      "7    en_Amsterdam_h0  0  de_Amsterdam_h8  7  0.084833  cosinesims\n",
      "8    en_Amsterdam_h0  0  de_Amsterdam_h2  8  0.072041  cosinesims\n",
      "9    en_Amsterdam_h2  0  de_Amsterdam_h5  0  0.056425  cosinesims\n",
      "10   en_Amsterdam_h5  0  de_Amsterdam_h5  0  0.047657  cosinesims\n",
      "11   en_Amsterdam_h5  0  de_Amsterdam_h3  1  0.014463  cosinesims\n",
      "12   en_Amsterdam_h7  0  de_Amsterdam_h8  0  0.221367  cosinesims\n",
      "13   en_Amsterdam_h8  0  de_Amsterdam_h6  0  0.072147  cosinesims\n",
      "14   en_Amsterdam_h9  0  de_Amsterdam_h5  0  0.109835  cosinesims\n",
      "15   en_Amsterdam_h9  0  de_Amsterdam_h7  1  0.041689  cosinesims\n",
      "16   en_Amsterdam_h9  0  de_Amsterdam_h3  2  0.022221  cosinesims\n",
      "17   en_Amsterdam_h9  0  de_Amsterdam_h4  3  0.021109  cosinesims\n",
      "18  en_Amsterdam_h11  0  de_Amsterdam_h7  0  0.032125  cosinesims\n",
      "19  en_Amsterdam_h12  0  de_Amsterdam_h5  0  0.207184  cosinesims\n",
      "20  en_Amsterdam_h12  0  de_Amsterdam_h3  1  0.037725  cosinesims\n",
      "21  en_Amsterdam_h12  0  de_Amsterdam_h7  2  0.023591  cosinesims\n"
     ]
    }
   ],
   "source": [
    "# English-German aspects linking through content--headline\n",
    "\n",
    "getDocumentVectorSpaceModelRun(src_headline, trs_content,  'en', 'de', entity_name)"
   ]
  },
  {
   "cell_type": "code",
   "execution_count": null,
   "metadata": {
    "collapsed": true
   },
   "outputs": [],
   "source": []
  },
  {
   "cell_type": "markdown",
   "metadata": {
    "collapsed": true
   },
   "source": [
    "# Word Vector Space Model with Word2Vec"
   ]
  },
  {
   "cell_type": "code",
   "execution_count": 271,
   "metadata": {
    "collapsed": false,
    "scrolled": true
   },
   "outputs": [
    {
     "name": "stdout",
     "output_type": "stream",
     "text": [
      "[nltk_data] Downloading package wordnet to\n",
      "[nltk_data]     /Users/hailianhou/nltk_data...\n",
      "[nltk_data]   Package wordnet is already up-to-date!\n",
      "[nltk_data] Downloading package stopwords to\n",
      "[nltk_data]     /Users/hailianhou/nltk_data...\n",
      "[nltk_data]   Package stopwords is already up-to-date!\n"
     ]
    }
   ],
   "source": [
    "import json\n",
    "import nltk\n",
    "import math\n",
    "import numpy as np\n",
    "import pandas as pd\n",
    "import gensim\n",
    "from gensim.test.utils import common_texts, get_tmpfile\n",
    "from gensim.models import Word2Vec\n",
    "from nltk.tokenize import WordPunctTokenizer\n",
    "from nltk.stem.wordnet import WordNetLemmatizer\n",
    "nltk.download('wordnet')\n",
    "nltk.download(\"stopwords\")\n",
    "from nltk.corpus import stopwords\n",
    "esw = stopwords.words(\"english\")+['edit']\n",
    "from string import punctuation"
   ]
  },
  {
   "cell_type": "code",
   "execution_count": 499,
   "metadata": {
    "collapsed": true
   },
   "outputs": [],
   "source": [
    "from operator import add"
   ]
  },
  {
   "cell_type": "code",
   "execution_count": 756,
   "metadata": {
    "collapsed": true
   },
   "outputs": [
    {
     "name": "stdout",
     "output_type": "stream",
     "text": [
      "defaultdict(<class 'list'>, {'Amsterdam': [\"Amsterdam (Dutch Amsterdam? / I) is the capital and most populous city of the Kingdom of the Netherlands. The municipality of Amsterdam has 864,217 inhabitants (as of January 31, 2019) and agglomeration Groot-Amsterdam 1,362,270 inhabitants (as of February 28, 2018). In the metropolitan area of \\u200b\\u200bAmsterdam, which makes up the northern part of the Dutch conurbation Randstad, live about 2.4 million people (2012). Although the seat of government of the country and the royal residence located in 60 kilometers from The Hague, Amsterdam has been the Netherlands' capital since 1983, according to the Dutch constitution. [5]\", 'Amsterdam is located in the Dutch province of North Holland, where Amstel and IJ flow directly into the IJsselmeer. The port of the city is connected by the North Sea Canal with the North Sea. Amsterdam is world famous for the many canals.'], 'Municipal districts with residential districts and districts [edit | Edit]': ['Since 1 May 2010, there is a new classification of the municipalities of Amsterdam (formerly 14, now seven districts). These are in turn divided into the districts of Amsterdam.', 'Amsterdam Center', 'In Amsterdam-West:', 'In Amsterdam New West:', 'In Amsterdam South:', 'In Amsterdam East', 'In Amsterdam North', 'In Amsterdam Southeast'], 'Geography [edit | Edit]': ['The Amsterdamm level was set 1683/1684 as a zero point for height measurements. The water level of the middle flood (MHW) was chosen. This water level was about 17 cm above the mean water. The water level of the Amsterdam canals today is about 40 cm below the sea level of the North Sea.', 'The Dutch weather usually varies from a light frost in the winter with some snow to sunny days of 20 to 30 ° C in the summer. Spring and fall are mild, but can be very wet and rainy (over 100 mm of precipitation per month).', 'Amsterdam as well as the entire European Netherlands are in the Central European Time Zone. Since the city is located far west in this time zone, the sun is only at 12:40 clock (during the summer time at 13:40 clock) exactly in the south. This leads in the summer along with the northern location of the city to a late sunset; in midsummer, it may still be bright until 11pm.'], 'History [edit | Edit]': ['The name of the city derives from a 13th century dam with a lock in the Amstel river; There was a fishing village, which bore the name Amstelredam. The Latin name was Amstelodamum, later Amstelaedam (Amstelædam). The drainage of the estuary was necessary to protect the previously developed development on both river banks from storm surges, because the former Zuiderzee was an open bay to the North Sea, and the land was lowered due to drainage measures. The dam, which was placed in the Amstel, connected the settlement nuclei previously formed on both sides, which today are called Oude Zijde and Nieuwe Zijde (old and new side).', 'In the course of the Middle Ages, an urban square was built on the site of the Amstel Dam, which today still bears the name Dam and represents the center of the city.', \"Until the 13th century, today's province of Holland was for the most part poorly populated. It was a very humid area, consisting mainly of bog and marshland and intersected by several rivers. One of these rivers was the Amstel, which flowed into the IJ called inlets. By storm surges of the IJ had broadened the mouth of the Amstel to a narrow, elongated bay. Around this time around 500 fishermen had settled in huts until 1230.\", 'Lords of the Amstellandes around the river of the same name was the noble family van Amstel, who sat as ministerial staff of the Hochstift Utrecht at the castle in Ouderkerk aan de Amstel, until it was destroyed in 1204 by rebellious farmers from the Kennemerland. They then built themselves a new castle, the Kasteel van Amstel, whose suspected foundations were found during excavations in 1994-1999 under the present street Nieuwezijds Kolk. Around 1270 they had the river, at the point where he widened to the bay, separated by the eponymous Dam. From this time there is a contract between Gijsbrecht IV van A (e) mstel, who inherited the property in 1265, and his brother Willem, Provost in Mijdrecht, on the drainage of his land in the Amstel. The settlement is first mentioned in 1275 as \"Amstelledamme\". From this dam, the dike ran on both sides of the bay in curves to the north, where the current streets Nieuwendijk and Warmoesstraat (and further southeast of the Zeedijk) are still higher than their surroundings. Such dikes also originated elsewhere along the Zuiderzee. After archaeological excavations proves the old children\\'s song Amsterdam, the beautiful city, built on piles as quite right: In fact, could only with the help of countless piles underground - rammed up to 18 m deep through the boggy soil in the solid sand - houses and streets to be built in marshland. The first church built in the second half of the 13th century, the Oude Kerk instead of a wooden chapel. From 1408 followed the larger Nieuwe Kerk.', 'Florens V., Count of Holland, tried to seize the new commercial port and granted its traders duty free. Gijsbrecht van Amstel, who had rebelled against the bishop of Utrecht, had in 1285 submit to the count as a vassal, but was involved in 1296 in his murder. His son, Jan van Amstel, used a Flemish invasion of Holland in 1303 to break away from it, but was subjugated after the Flemings had left and had to drag down the city walls and destroy the bridges; the place lost all trading privileges. These were renewed only after the final incorporation of Amsterdam into the county of Holland in 1317. Then Amsterdam was granted city rights, as they had previously received Dordrecht, Haarlem, Delft and Leiden. Among the Counts of Avesnes and their successors, the Wittelsbachers of the line Bayern-Straubing, Holland experienced a period of prosperity, which was ended with the invasion of the Burgundian power - in 1433 Holland fell to Philip the Good, who ruled it from Brussels. The Hook and Cod War between 1350 and 1490 was a long smoldering middle-class power struggle in the Dutch cities, in league with the Burgundian dukes, against the interests of the local feudal nobility.', \"The fishing, initially the most important source of income, gradually gave way to trade, especially with dried or salted herring from the Swedish south coast and with beer from Hamburg, for which Amsterdam was granted an import monopoly in 1323. In 1347 locks are mentioned for the first time, which made the tedious transport of the goods over the dam unnecessary, in that the ships could drive through laid masts. Later, locks at the inlet of the Amstel also entered the city and at its mouth into the IJ and channels traversed and enclosed the city, as depicted by Cornelis Anthonisz. from 1538 can be seen. At that time, the city had about 30,000 inhabitants and consisted of the core of today's old town. Amsterdam was never a member of the Hanseatic League [7], with which it came to trade conflicts and dispute over the passage through the Oresund, which was settled in 1441 by comparison. New techniques (immediate guttering of the fish on board) also made fishing in the North Sea more efficient. Salt and tropical fruits were imported from the Mediterranean. Amsterdam became a staple and transshipment market and the goods were further processed, creating production techniques, sciences, banking and insurance and printing.\", 'In the city government of Amsterdam were originally all male citizens who had the city rights, they were called \"Poorter\". In the Middle Ages, the Schouts (Schultheißen) and the councilors (Schepen) by the Count of Holland or its representatives, the Baljuw (Vogt) van Amstelland, set. In the late Middle Ages, however, the patricians managed to exclude the artisans from the city government and in fact to establish an oligarchy. As in other Dutch cities, Vroedschap, with 36 members, appointed the magistrate, which consisted of four mayors and a number of shepherds since the end of the 14th century. The four simultaneously acting mayors, the regents of Amsterdam, each remained in office for one year. When the longest servant left, the three others chose a successor from the magistrate. This ensured that the powerful regency was reserved for a few families. This system of government did not end until 1795 with the French Revolutionary Laws in the Batavian Republic.', 'In 1477, the Burgundian heritage - Holland with neighboring countries - fell to the Habsburgs. In gratitude for a loan of 10,000 pounds of silver in 1489, Maximilian I gave Amsterdam the right to place the imperial crown over the coat of arms - a sustained gain in prestige. Under his grandson Emperor Charles V, the County of Holland was incorporated into the Seventeen Provinces. However, the most important ports remained there initially Antwerp and Rotterdam, especially for goods from the new colonies in South America.', 'Since 1492 Jews came from Spain to Amsterdam, since the mid-16th century also Ashkenazi Jews from Poland. They became part of the city. There were numerous synagogues and several Jewish printers. An Anabaptist rebellion was cruelly suppressed in 1535. The Reformation led from about 1550 to the spread of Calvinism.', \"In 1566, the iconoclasm unleashed the conflict with Emperor Charles 'son and heir, Philip II of Spain, and became an external occasion for the beginning of the Eighty Years' War with Spain. In 1567, Philip II sent an army to the Netherlands to quell the rebellion and was led by the Duke of Alba, who set up a terror regiment and ruthlessly persecuted the Protestants with the help of the Inquisition.\", \"In contrast, in 1568 the Geuzen began an uprising, headed by Philip's former governor Wilhelm I of Orange-Nassau. Most cities in the north joined the insurgents, only Amsterdam and Middelburg supported the Spaniards, who besieged Haarlem from here in the winter of 1572/73 and finally conquered. In 1576, all Dutch provinces united in the Ghent pacification against Spain. On February 8, 1578, Amsterdam concluded a peace treaty with the Prince of Orange and the remaining Dutch provinces. A few months later, the City Council overthrew the Alteratie of Amsterdam, and the supporters of Spain and the higher Catholic clergy were put on two barges and expelled to the IJ. The Oude and the Nieuwe Kerk were reformed.\", 'In 1579, the Union disintegrated into a northern, Protestant, called the Union of Utrecht, to which Amsterdam belonged, and a southern, mainly Catholic Union of Arras. In 1581, the Northern Seven Provinces declared their formal independence from Spain. Here, Calvinism dominated, but was not a state church, while the south remained Catholic as the Spanish Netherlands. Amsterdam was comparatively tolerant religiously, the Catholic monasteries in the city were tolerated as well as prayer houses of Mennonites and Lutherans. Thus Amsterdam is still predominantly Calvinistic, but at the same time the center of the rather small Dutch Lutheranism. In 1609, Congregational religious refugees from England under the direction of John Smyth and Thomas Helwys founded the first Baptist church in a bakery on the Amsterdam Bakkerstraat as the nucleus of one of the largest Protestant church communities today. The Calvinist reform sect of the Remonstranten came however politically under pressure.', 'The resistance of Amsterdam prevented William of Orange from becoming monarch and receiving the historic title of Count of Holland; instead, he became governor of the Republic of the United Netherlands, whose center of power was the Parliament, which until today has been called the States-General. This constellation led to a generation-long rivalry between oligarchic city regents and popular in the people of Orange governor dynasty. In 1584 a catholic fanatic murdered Wilhelm in Delft. His son Moritz followed him and the struggle for the southern and northeastern provinces continued to oscillate until 1607 the Spaniards were defeated in the Battle of Gibraltar, where they were forced to agree in 1609 in Antwerp to a truce twelve years held long. In 1621, the conflict with Spain broke out again as part of the Thirty Years War and was formally ended only in 1648 with the Peace of Westphalia, which brought international recognition of the Republic of the United Netherlands and at the same time their withdrawal from the Holy Roman Empire.', 'The annexation of Portugal by Spain in 1580 had forced the northern Netherlands to sail even ships to India. The first rides were made from Amsterdam and led to a great success. Inspired by this result, plans were soon forged throughout the country to send more ships to India. From these individual initiatives arose in 1602 the Vereenigde Oost -Indische Compagnie (VOC). Residents of Amsterdam subscribed to more than half of the total capital invested in the new company, of which two-fifths were small-scale investors (craftsmen) and 84 major investors. 1621 also established the Dutch West India Company, founded in 1626 the city Nieuw Amsterdam, which is called New York since 1667. The Amsterdamer Wechselbank enjoyed a worldwide reputation. These trading companies made the republic a global sea and commercial power, which led to the ceasefire with Spain in 1609, the Golden Age of the Netherlands. This small, low-income state association, which had no raw materials and whose agricultural production was insignificant, became the major economic power of the mid-17th century and Amsterdam the most important European trading place and the most prosperous city of the continent, which was built from 1648 to 1665 Stadhuis (now Paleis op de Dam) built a magnificent town hall. The population grew from about 1600 to 1662 from about 40,000 to 210,000 inhabitants, the city was extended by new canals and received numerous new churches and social services. The warehouses piled up spices, silk, and other treasures from India and the Pacific; Science and literature, architecture, sculpture and painting (Rembrandt and his school) reached high points.', 'The success, however, also led to a rivalry with the great powers England and France. Between 1652 and 1674, three Anglo-Dutch naval wars took place, and in the Second Nordic War, the Netherlands had to simultaneously defend its trade interests in the Baltic Sea. The politician Johan de Witt and Fleet Commander Michiel de Ruyter coined this time. In the Rampjaar, the disaster year 1672, the Netherlands came simultaneously into a war with France and England. The Dutch War ended in 1679 with benefits for the French crown. Through the turmoil of war, the port of Amsterdam became inaccessible to the merchant fleet of goods from India. In addition, there were falling prices, English competition overseas, the damage to ships and wooden piles of the dikes by the shipworm and subsequent flooding, as well as the rinderpest that brought the export of cheese and butter to a standstill.', 'This led to the decline of Amsterdam as a port of transshipment for world trade and led to a change in economic structures towards the end of the century; Amsterdam lost its position as a major port city but gained increasing influence on the European money market. Amsterdam managed to become the financial center of the world - as a banker for European princes who used lent money to wage their costly wars. However, the rich citizens of the city now put their money in neighboring countries. In 1688 the governor Wilhelm III. from Oranien to the English king. When he died in 1702, the governorship was suspended and a return to the anti-centralist tradition of the city rulers occurred. It was not until 1747 that William IV became governor of all provinces again. The Age of Enlightenment, originating in France, caused unrest, denunciation of grievances and criticism of the system of the unlimited rule of the ruler alienated from the people. 1795, the Batavian Republic was proclaimed as the satellite state of Napoleonic France.', 'When he was appointed King of Holland on June 23, 1806, Louis Bonaparte declared Amsterdam his capital. However, this did not prevent Amsterdam from gradually becoming a \"dead\" and impoverished city in the first decades of the 19th century. The city only experienced a new boom when the Noordzeekanaal was opened in 1876, which gave Amsterdam a connection to the North Sea and thus to the United Kingdom and the United States (USA). Once again, Amsterdam became the center of cultural and scientific life, although it was gradually outstripped economically, especially after the Second World War, by Rotterdam.', 'Numerous centuries-old monuments adorn the city center. Nearly 7,000 merchants and warehouses as well as nearly 1,300 bridges from the 16th to the 18th century bear witness to this Golden Age. The trading houses were built along the 165 canals that were used as transport routes to facilitate the rapid distribution of import goods in the city and to the trading offices. The Amsterdam canal belt was also included in the UNESCO World Heritage List in 2010. [8] The river bed of the Amstel itself, origin of the settlement, was filled in the 19th and 20th centuries, however, except for Damrak and Rokin and overbuilt.', 'Since 2011, immigrants represent the majority of the population in Amsterdam. Among the under-15s, their share is two-thirds. The largest minority group after the Dutch are Moroccans. [9]'], 'Politics [edit | Edit]': ['Amsterdam is a center of drug tourism in Europe. This is due to the liberal policies of the Netherlands. Noteworthy are the many foreign drug users. In 2005, there were around 750 coffee shops throughout the Netherlands. In 2009 there were 228 coffee shops in Amsterdam. [10]', \"Of many foreign dissidents, Amsterdam was chosen as the new home. One common reason for this was the city's former liberal policies, often in combination with repressive policies in their country of origin.\", 'Since 1998 the police are allowed to carry out checks on persons; this is done under the name Amsterdam Wapenvrij (\"Amsterdam weapon-free\"). The reason was the large number and frequent use of illegal weapons. Among other things, there are reinforced passport controls.\\nSince January 1, 2005, a compulsory identification or compulsory participation is required throughout the Netherlands, according to which persons over the age of 14 must carry an ID card. However, it is not just about possession of firearms, but also large quantities of drugs and people who have been wanted for a long time for various offenses by the police. In principle, any person in the designated areas at the time of the checks can be controlled. The police are authorized to inspect packaging and contents of goods, means of transport and clothing of persons. [11] Controls can only be carried out in the areas designated by the mayor (\"Article 151B van de Gemeentewet\"). [12] The designated areas are: De Ruyterkade, IJtunnel, Prins Hendrikkade, Schippersgracht, Rapenburgerplein, Nieuwe Herengracht, Herengracht, Reguliersgracht, Lijnbaansgracht, Nieuwe Vijzelstraat, Weteringlaan, Stadhouderskade, Nassaukade, Leidsegracht, Huidenstraat, Wijde Heisteeg, Singel, Droogbak. In Amsterdam Zuidoost: Daalwijkdreef, Elsrijkdreef, Provinciale way, metro line to Bijlmerdreef (Ganzenhoef), Gravendijkdreef, Gaasperparkpad, Kanterhofspad, Nellesteinpad, Karspeldreef, Gooiseweg, Gulden Kruispad, Flierbosdreef, Karspeldreef-Hoogoorddreef.', 'The council has been formed since 1982 as follows', 'For the 2018-2022 term, the community is governed by a coalition of D66, GroenLinks, PvdA and SP. The College van burgemeester en wethouders consists of three VVD aldermen, two D66 consortium members and a PvdA alderman. The following persons are members of the College and are responsible for the following areas [14]:', 'From 7 July 2010 until his death on 5 October 2017, former Minister of Construction and Integration, Eberhard van der Laan, was Mayor of Amsterdam. [15] His offices were provisionally taken over by Jozias van Aartsen from 4 December 2017 to 5 July 2018. [16] Since July 12, 2018 Femke Halsema, former party and party leader of GroenLinks, acting mayor.', 'Coat of arms description: \"In red a black stake, with three silver Flanchis (St. Andrew\\'s crosses) occupied.\" Two golden red-tongued lions as shield holder and in the silver volume the motto in black capital letters \"HELPFUL VASTBERADEN BARMHARTIG\", on the shield rests the golden imperial crown. - The city flag of Amsterdam corresponds to the blazon (hanging), in horizontal form, all blazon contents are also arranged horizontally.', 'Symbolism: In the 13th century the town was a fishing village belonging to the lords of Amstel. His coat of arms received it in the 15th century. The Great Coat of Arms with the two golden lions as shield holder got by Maximilian of Austria in 1489 the imperial crown on the blazon. In the year 1947 the coat of arms vowise came to it: After the liberation 1945 of the fascism the queen of the city gave the motto \"heroic, constantly (also: determined), mercifully\" as appreciation of the attitude of the citizens during the occupation in the years 1940 to 1945.', 'Importance of the coat of arms: The exact meaning of the coat of arms is unknown. But there are several theories that historians consider plausible, but so far can not be further proven. The two prevailing theories are:', 'Another theory says that the three crosses should remind of the apostle Andrew.', \"As evidence that the city took the coat of arms in the 15th century. The Roman-German King and later Emperor Maximilian I gave the city in 1489 the right to add his crown to the coat of arms. This was thanks for the financial support that he, as heirs of the Burgundian Netherlands, had been granted by the city during his dispute with Dutch nobles. Legend has it that during a stay in the city, after a prayer in one of the churches, Maximilian had recovered from a serious illness and had the coat of arms decorated with his crown. Maximilian's crown was replaced after its coronation to the Roman-German emperor by the imperial crown. At the time of Emperor Rudolf II, who had a new crown made, which later became the Austrian imperial crown, they adjusted the shape of the crown. The lions as shield holders were added in the 16th century. [18]\", 'Queen Wilhelmina took the attitude of the citizenry during the occupation by the German Reich in World War II and especially the February strike after the removal of the first Jews from Amsterdam in February 1941 as an opportunity, the city with the saying \"Heroic, Vast Berger, Barmhartig\" (heroic, Steadfast, Merciful). This motto came in 1947 in the coat of arms.', 'The coat of arms is omnipresent in the city, as it graces not only the typical in Amsterdam bollards (Amsterdammertjes), but also manhole covers, public buildings and many logos.'], 'Architecture [edit | Edit]': ['Since in the history of Amsterdam, the canals represented one of the main transport routes for goods and people, it was customary to measure the taxes for a building according to its width on the canal. As a result, mainly houses in Amsterdam have very narrow front fronts along the canals, but in order to provide sufficient housing or storage space for goods, they are relatively long and tall. However, this design was not suitable for the installation of wide staircases; rather, the staircases were usually too narrow for bulky goods or furniture. Objects that were difficult to transport across the stairwell were instead conveyed through the windows into the house. To facilitate this process, the gables of many historic buildings have projecting beams on which pulleys can be attached. Furthermore, many facades are slightly inclined forward, which is architecturally so intentional and is called op vilucht built. The prehension is 0.2 to 2.5 cm per meter of altitude. The gables could not be built in width because of the narrowness, but they were built in rich execution in the height. Gable variations from four centuries characterize the old town. Stair gables, beak gables, bell gables and inguinal gables are particularly common. [20]', 'On the other hand, in Amsterdam, houses used to be built on wooden posts, and these have slowly decayed over the centuries. [21] Therefore, the historic districts of Amsterdam make a slightly \"skewed\" or \"distorted\" impression. [22] Amsterdam stands on around five million wooden posts, which are necessary because of the damp, sandy ground. Today concrete piles are used because of longer durability, simpler construction methods and greater depth. The central station stands on approximately 8,600 piles, [23] the royal palace on 13,659 piles. A large part of these wooden piles was brought from the Black Forest and the Franconian Forest with rafts. Thus all the piles of the main station come from the Franconian Forest. [25] The timber for houses and ships as well as the firewood was also transported by rafts from these forests.', 'In Amsterdam there are many buildings in the style of the Amsterdam School, a style of expressionist architecture, including:', 'In Amsterdam there are nine objects that are included in the existing since 2007 Top 100 of the Dutch monuments 1940-1958:'], 'Culture [edit | Edit]': ['Internationally known is the football club Ajax, record champions of the Netherlands and multiple European Cup winner. The club plays its games in the Johan Cruyff Arena, which offers more than 50,000 seats.', 'Amsterdam was in 1928 the venue of the Summer Olympic Games. The Olympic Stadium is used today, among other things, for athletics competitions, for example, as the goal of the annual Amsterdam Marathon.', 'American football has a certain tradition in the city. In the 1990s and 2000s, the Amsterdam Admirals were among the most famous football teams in Europe. The Amsterdam Crusaders are multiple Dutch champions.', \"Amsterdam is one of the most important graffiti metropolises. Although the New York writing movement, which is associated with the hip-hop scene, certainly influenced Amsterdam's sprayers, the punk movement played a more important role in the beginning. Amsterdam sprayers have influenced stylistically many sprayers around the world since the early 1980s.\", 'The opening of two large dance floors for homosexuals, the 1955 De Schakel on the Leidseplein and the 1958 De Odeon Kring (DOK) and the later onset of liberal attitudes and politics in the wake of the sexual revolution in the mid-1960s, made Amsterdam the \"gay capital\" of Europe. 27] The two now closed dance floors were the population rather than cruising and Klappensex. They were also an attraction for tourists.', 'Since 1996 there is the \"Amsterdam Gay Pride\", a Canal Parade, which takes place annually on the first Saturday in August in the Prinsengracht and Amstel. In 2008, the Amsterdam Gay Pride was proclaimed the best gay pride in Europe. [28]'], 'Economy and infrastructure [edit | Edit]': ['Many Dutch companies, such as the brewer Heineken and the electronics group Philips, are headquartered in Amsterdam. The major Dutch banks ABN AMRO, Rabobank and ING Groep own office complexes at Sloterdijk station in the northwest of the city and at the World Trade Center in the south. Computer companies, such as Cisco Systems, have their European headquarters in the southeastern business district in Bullewijk. The port of Amsterdam is the second largest in the Netherlands after the port in Rotterdam.', 'Tourism is, in addition to the so-called counsil tax, a tax on houses and apartments, an important source of income of the city. Every year millions of tourists from all over the world visit the city, numerous hotels can be found throughout the city. Attractions are mainly the many canals, coffee shops and museums and the red light district De Wallen in the city center of Amsterdam. The city ranks fifth among the most visited cities in Europe, with more than seven million tourists from abroad each year. [29]', 'The Rembrandtplein is one of the most famous nightlife areas of Amsterdam, with its theaters, cinemas and many restaurants and pubs. Near the Leidseplein are discotheques and Holland Casino for gamblers.', 'The cruise is also an important area for Amsterdam. In 2015, there were 184 inruns of cruise ships, 142 at Amsterdam Harbor and 42 at nearby IJmuiden. There were also about 1700 runs of river cruise ships. The Amsterdam Cruise Port (ACP) expects to reach 775,000 passengers in 2015. [30]', 'The most common means of transport of the city is, as everywhere in the Netherlands, the bicycle (fiets). A network of cycle paths (fietspaden) runs across Amsterdam, along all the roads and canals, through all the parks and connects all the neighboring communities.', 'In addition to the IJ, which flows into the North Sea via the North Sea Canal and also has a connection to the Amsterdam-Rhine Canal, a system of canals that run through the city in a semicircle connects the city with the national canal system. The Amsterdam ferries operate on the IJ.', 'There are five different lines at the Metro Amsterdam. Next to the metro there is a dense tram and bus network. All means of transport can be used with the OV chip card of the national tariff system.', 'Since 2018, the north-south subway of Amsterdam Nord, under the IJ, the main station and further through the city center to the Amsterdam Zuid railway station in operation. Due to renovations at the Amsterdam Zuid railway station, the previously direct connection to the municipality of Amstelveen has been interrupted since 2019.', 'The Central Station Amsterdam Centraal Station (CS) is located on the northern edge of the city center on an artificial island. From him and nine other train stations in the city, the trains of the Dutch Railway Company (NS) connect the capital with all the provinces of the Netherlands.', 'International connections exist several times a day with the ICE International to Oberhausen, Cologne and Frankfurt, with the InterCity to Hanover and Berlin as well as with the Thalys to Antwerp, Brussels and Paris.', 'Amsterdam is enclosed by the motorway ring A 10, with connection to the A 8 in the northwest at Zaandam direction Alkmaar, in the southwest to the A 4, southeast the A 2 direction Utrecht and east the A 1 direction Almere / Hilversum.', 'The city is the starting point and end point of the German-Dutch holiday route Oranier-Route.', 'The Zeeburgertunnel, with a length of 946 meters, connects the Zeeburgereiland in Amsterdam East with Amsterdam Nord.', 'The city center of Amsterdam is connected to Amsterdam North with the IJtunnel. It was completed in 1968 and has a length of 1682 meters.', 'The Coentunnel represents a traffic connection between Amsterdam West and Zaanstreek. It has a length of 1283 meters and was opened in 1966.', 'Amsterdam Schiphol Airport (IATA code: AMS, ICAO code: EHAM, ndl. Luchthaven Schiphol, international Amsterdam Airport Schiphol) is the international airport of the city of Amsterdam, the largest in the Netherlands and - measured by the number of passengers and passengers Airplane movements of the year 2008 - the fourth largest airport in Europe. It is the hub of the largest Dutch airline KLM and is located southwest of Amsterdam between Amstelveen and Hoofddorp.', 'The port group of Amsterdam is considered the second largest port in the Netherlands and the sixth largest cargo port in Europe. [31] The harbor is free of tides and can be reached from the lake via the North Sea Canal. Most docks are located between IJmuiden and Amsterdam. Other ports belonging to the port group are IJmuiden, Beverwijk and Zaanstad. Amsterdam is connected to the European hinterland via the Amsterdam-Rhine Canal.', 'Amsterdam has two universities. The Vrije Universiteit (VU) is the only Protestant university in the Netherlands. By contrast, the Municipal University of Amsterdam (UvA), which is the largest university in the city, has no religious affiliation. Both universities have their own university hospitals.', \"In Amsterdam is the world's largest non-commercial Internet node AMS-IX.\\nAmsterdam hosts the largest European media production fair, the International Broadcast Conference (IBC).\"], 'Martian Crater [edit | Edit]': ['After Amsterdam, a Mars crater is named.', 'Culture Cities:\\n1985: Athens |\\n1986: Florence |\\n1987: Amsterdam |\\n1988: West Berlin |\\n1989: Paris |\\n1990: Glasgow |\\n1991: Dublin |\\n1992: Madrid |\\n1993: Antwerp |\\n1994: Lisbon |\\n1995: Luxembourg |\\n1996: Copenhagen |\\n1997: Thessaloniki |\\n1998: Stockholm\\nCapitals of Culture:\\n1999: Weimar |\\n2000: Avignon, Bergen, Bologna, Brussels, Helsinki, Krakow, Prague, Reykjavík, Santiago de Compostela |\\n2001: Porto, Rotterdam |\\n2002: Bruges, Salamanca |\\n2003: Graz |\\n2004: Genoa, Lille |\\n2005: Cork |\\n2006: Patras |\\n2007: Sibiu, Luxembourg and Greater Region |\\n2008: Liverpool, Stavanger |\\n2009: Linz, Vilnius |\\n2010: Istanbul, Pécs, Ruhr Area |\\n2011: Tallinn, Turku |\\n2012: Guimarães, Maribor |\\n2013: Košice, Marseille |\\n2014: Riga, Umeå |\\n2015: Mons, Pilsen |\\n2016: Wroclaw, Donostia-San Sebastián |\\n2017: Aarhus, Paphos |\\n2018: Leeuwarden, Valletta |\\n2019: Matera, Plovdiv |\\n2020: Galway, Rijeka |\\n2021: Timişoara, Eleusis, Novi Sad |\\n2022: Esch on the Alzette, Kaunas']})\n"
     ]
    }
   ],
   "source": [
    "## input: \n",
    "#source_de_Barack_Obama: dict\n",
    "\n",
    "translation_de_to_en = getTranslationRun(source_de, 'de', 'en', entity_name)"
   ]
  },
  {
   "cell_type": "code",
   "execution_count": 500,
   "metadata": {
    "collapsed": true
   },
   "outputs": [],
   "source": [
    "def traditionalToSimplified(file):\n",
    "    i = 0\n",
    "    for el in file:\n",
    "        file[i] = ''.join(HanziConv.toSimplified(el))\n",
    "        i += 1\n",
    "        \n",
    "def chineseTokenize(file):\n",
    "    i = 0\n",
    "    for el in file:\n",
    "        file[i] = ' '.join(jieba.cut(el, cut_all=False, HMM=True))\n",
    "        i += 1\n",
    "\n",
    "        \n",
    "from nltk.tokenize import MWETokenizer\n",
    "def MWEtokenize(el):\n",
    "    i = 0\n",
    "    tokenizer = MWETokenizer()\n",
    "    \n",
    "    el = tokenizer.tokenize(el.split())\n",
    "    return el\n",
    "\n",
    "punctuation = punctuation + str('；')+  str(\"：《》「 」“”[\\s+\\.\\!\\/_,$%^*(+\\\"\\']+|[+——！，。？、~@#￥%……&*（）]+\")+str('编辑')+str('%.[')+str('(/')+str(');[')+str('\"),')+str(').')+str('.[')+str(',[')+str('][')+str('(\"')+str('.\"[')+str('—'+str('.\"'))+str('.,')        \n",
    "def tokenize(file):\n",
    "    i = 0\n",
    "    for el in file:\n",
    "        tokenizerOne = WordPunctTokenizer()\n",
    "        el = tokenizerOne.tokenize(str(el.lower()))\n",
    "        el = ' '.join([word for word in el if word not in punctuation])\n",
    "        file[i] = MWEtokenize(el)\n",
    "        i += 1\n",
    "        \n",
    "\n",
    "\n"
   ]
  },
  {
   "cell_type": "code",
   "execution_count": 764,
   "metadata": {
    "collapsed": true
   },
   "outputs": [],
   "source": [
    "# exact headlies\n",
    "en_headline = list(source_a.keys())\n",
    "de_headline = list(translation_b_to_a .keys())\n",
    "\n",
    "#extract context\n",
    "en_content = []\n",
    "de_content = []\n",
    "for el in en_headline:\n",
    "    en_content.append(''.join(source_a[el]))\n",
    "for el in de_headline:\n",
    "    de_content.append(''.join(translation_b_to_a[el]))"
   ]
  },
  {
   "cell_type": "code",
   "execution_count": 765,
   "metadata": {
    "collapsed": true
   },
   "outputs": [],
   "source": [
    "# preprocessing for en and de\n",
    "tokenize(en_content)\n",
    "tokenize(de_content)\n",
    "tokenize(en_headline)\n",
    "tokenize(de_headline)"
   ]
  },
  {
   "cell_type": "code",
   "execution_count": 767,
   "metadata": {
    "collapsed": false
   },
   "outputs": [],
   "source": [
    "#Building the word2vect model for the documents corpus\n",
    "\n",
    "model = Word2Vec(en_content, size=300)"
   ]
  },
  {
   "cell_type": "code",
   "execution_count": 769,
   "metadata": {
    "collapsed": true
   },
   "outputs": [],
   "source": [
    "def getDocVectors(content):\n",
    "    \n",
    "    doc_vectors = list()\n",
    "    for i in range(len(content)):\n",
    "        \n",
    "        vectorSum = [0]*300\n",
    "        l = 0\n",
    "        for el in content[i]:\n",
    "            if el in list(model.wv.vocab):\n",
    "                # adding the word vectors togenther by their dimensions:\n",
    "                vectorSum = list(map(add, list(model.wv[el]), vectorSum))\n",
    "                l+=1\n",
    "        \n",
    "        for m in range(len(vectorSum)):\n",
    "            if vectorSum[m] != 0:\n",
    "                ###anormalize the vector sum:\n",
    "                vectorSum[m] = float(vectorSum[m])/l \n",
    "            else:\n",
    "                vectorSum[m] = vectorSum[m]\n",
    "          \n",
    "        doc_vectors.append(vectorSum)\n",
    "\n",
    "    return doc_vectors \n",
    "    "
   ]
  },
  {
   "cell_type": "code",
   "execution_count": 770,
   "metadata": {
    "collapsed": true
   },
   "outputs": [],
   "source": [
    "# input: 1* n dims sparse matrix, or single vector from query_vect/ train_tfidf matrix\n",
    "def getSquareSumWVSM(vector):\n",
    "    squaresum = 0\n",
    "    for i in range(len(vector)):\n",
    "        squaresum += vector[i]* vector[i]\n",
    "        \n",
    "    return squaresum "
   ]
  },
  {
   "cell_type": "code",
   "execution_count": 771,
   "metadata": {
    "collapsed": true
   },
   "outputs": [],
   "source": [
    "# input: 1* n sparse matrix, or single vector from query_vect/ train_tfidf matrix\n",
    "# return the cosine sim of two vectors\n",
    "\n",
    "def getCosineSimilarityWVSM(query_vector, doc_vector):\n",
    "    squaresum_query = getSquareSumWVSM(query_vector)\n",
    "    squaresum_doc= getSquareSumWVSM(doc_vector)\n",
    "    if math.sqrt(squaresum_query)*math.sqrt(squaresum_doc) > 0:\n",
    "        sim = np.dot(query_vector, doc_vector)/(math.sqrt(squaresum_query)*math.sqrt(squaresum_doc))\n",
    "        return sim\n",
    "    else:\n",
    "        return np.dot(query_vector, doc_vector)\n"
   ]
  },
  {
   "cell_type": "code",
   "execution_count": 772,
   "metadata": {
    "collapsed": true
   },
   "outputs": [],
   "source": [
    "# src_content: is the source page data of the wikipedia item in laguage a\n",
    "# trs_content: is the translation data of the wikipedia item from language b to language a\n",
    "# we link the headlines of the wikipedia item in different languages through translation text and source text\n",
    "# further more, link of headlines is predicted through similarity between the text vectors below the headlines\n",
    "# b: source language b of the text \n",
    "# a: target language a the text to be translated into\n",
    "# termname: term name of the text\n",
    "\n",
    "# return: RUN file for Trec_eval\n",
    "\n",
    "def getWordVectorSpaceModelRun(trs_content, src_content, la1, la2, termname):    \n",
    "    ### get the similarity of query with each doc leader\n",
    "    DV_src_content = getDocVectors(src_content)\n",
    "    DV_trs_content = getDocVectors(trs_content)\n",
    "    \n",
    "    \n",
    "    result = []\n",
    "    for j in range(len(DV_trs_content)):\n",
    "        \n",
    "        sims = []\n",
    "        results_ID = []\n",
    "        results = []\n",
    "        for i in range(len(DV_src_content)):\n",
    "            s = getCosineSimilarityWVSM(DV_trs_content[j], DV_src_content[i])\n",
    "            #if type(s)is not None:\n",
    "            sims.append(s)\n",
    "\n",
    "        \n",
    "        for x in range(len(sims)):\n",
    "            if sims[x] >0:\n",
    "                results_ID.append(x)\n",
    "                results.append(sims[x])\n",
    "        \n",
    "        #print(results, results_ID)\n",
    "        \n",
    "        if len(results) >0 and len(results_ID)>0:\n",
    "            results, results_ID= zip(*sorted(zip(results, results_ID), reverse=True))      \n",
    "       \n",
    "        \n",
    "        for m in range(len(results)):\n",
    "            result.append([la1+'_'+termname+\"_h\"+str(j), 0, la2+'_'+termname+'_h'+str(results_ID[m]), m, results[m], 'word2vector'])\n",
    "\n",
    "    df = pd.DataFrame(result)\n",
    "    if len(trs_content[0]) > 10 and len(src_content[0])>10 :\n",
    "        df.to_csv('WVSM_'+termname+'_'+la1+'_'+la2+'_text.txt', header=None, index=None, sep=' ', mode='a')\n",
    "    elif len(trs_content[0]) < 10 and len(src_content[0])<10:\n",
    "        df.to_csv('WVSM_'+termname+'_'+la1+'_'+la2+'_headline.txt', header=None, index=None, sep=' ', mode='a')\n",
    "    elif len(trs_content[0]) < 10 and len(src_content[0])>10:\n",
    "        df.to_csv('WVSM_'+termname+'_'+la1+'_'+la2+'_headline_text.txt', header=None, index=None, sep=' ', mode='a')\n",
    "    else:\n",
    "        df.to_csv('WVSM_'+termname+'_'+la1+'_'+la2+'_text_headline.txt', header=None, index=None, sep=' ', mode='a')     \n",
    "    \n",
    "    print(df)"
   ]
  },
  {
   "cell_type": "code",
   "execution_count": 773,
   "metadata": {
    "collapsed": false,
    "scrolled": true
   },
   "outputs": [
    {
     "name": "stdout",
     "output_type": "stream",
     "text": [
      "                   0  1                2  3         4            5\n",
      "0    en_Amsterdam_h0  0  de_Amsterdam_h0  0  1.000000  word2vector\n",
      "1    en_Amsterdam_h0  0  de_Amsterdam_h7  1  0.999977  word2vector\n",
      "2    en_Amsterdam_h0  0  de_Amsterdam_h1  2  0.999969  word2vector\n",
      "3    en_Amsterdam_h0  0  de_Amsterdam_h6  3  0.999337  word2vector\n",
      "4    en_Amsterdam_h5  0  de_Amsterdam_h7  0  1.000000  word2vector\n",
      "5    en_Amsterdam_h5  0  de_Amsterdam_h1  1  0.999979  word2vector\n",
      "6    en_Amsterdam_h5  0  de_Amsterdam_h0  2  0.999977  word2vector\n",
      "7    en_Amsterdam_h5  0  de_Amsterdam_h6  3  0.999324  word2vector\n",
      "8    en_Amsterdam_h7  0  de_Amsterdam_h6  0  1.000000  word2vector\n",
      "9    en_Amsterdam_h7  0  de_Amsterdam_h0  1  0.999337  word2vector\n",
      "10   en_Amsterdam_h7  0  de_Amsterdam_h7  2  0.999324  word2vector\n",
      "11   en_Amsterdam_h7  0  de_Amsterdam_h1  3  0.999312  word2vector\n",
      "12   en_Amsterdam_h9  0  de_Amsterdam_h0  0  0.999373  word2vector\n",
      "13   en_Amsterdam_h9  0  de_Amsterdam_h7  1  0.999362  word2vector\n",
      "14   en_Amsterdam_h9  0  de_Amsterdam_h1  2  0.999358  word2vector\n",
      "15   en_Amsterdam_h9  0  de_Amsterdam_h6  3  0.998866  word2vector\n",
      "16  en_Amsterdam_h12  0  de_Amsterdam_h0  0  0.999730  word2vector\n",
      "17  en_Amsterdam_h12  0  de_Amsterdam_h7  1  0.999726  word2vector\n",
      "18  en_Amsterdam_h12  0  de_Amsterdam_h1  2  0.999712  word2vector\n",
      "19  en_Amsterdam_h12  0  de_Amsterdam_h6  3  0.999044  word2vector\n"
     ]
    }
   ],
   "source": [
    "# Englis-German Aspects Linking Headline-Headline \n",
    "\n",
    "getWordVectorSpaceModelRun(en_headline, de_headline, 'en', 'de', entity_name)"
   ]
  },
  {
   "cell_type": "code",
   "execution_count": 774,
   "metadata": {
    "collapsed": false,
    "scrolled": true
   },
   "outputs": [
    {
     "name": "stdout",
     "output_type": "stream",
     "text": [
      "                    0  1                2  3         4            5\n",
      "0     en_Amsterdam_h0  0  de_Amsterdam_h7  0  1.000000  word2vector\n",
      "1     en_Amsterdam_h0  0  de_Amsterdam_h4  1  1.000000  word2vector\n",
      "2     en_Amsterdam_h0  0  de_Amsterdam_h3  2  1.000000  word2vector\n",
      "3     en_Amsterdam_h0  0  de_Amsterdam_h6  3  1.000000  word2vector\n",
      "4     en_Amsterdam_h0  0  de_Amsterdam_h0  4  1.000000  word2vector\n",
      "5     en_Amsterdam_h0  0  de_Amsterdam_h2  5  1.000000  word2vector\n",
      "6     en_Amsterdam_h0  0  de_Amsterdam_h5  6  1.000000  word2vector\n",
      "7     en_Amsterdam_h0  0  de_Amsterdam_h1  7  0.999998  word2vector\n",
      "8     en_Amsterdam_h0  0  de_Amsterdam_h8  8  0.999998  word2vector\n",
      "9     en_Amsterdam_h1  0  de_Amsterdam_h3  0  1.000000  word2vector\n",
      "10    en_Amsterdam_h1  0  de_Amsterdam_h4  1  1.000000  word2vector\n",
      "11    en_Amsterdam_h1  0  de_Amsterdam_h7  2  1.000000  word2vector\n",
      "12    en_Amsterdam_h1  0  de_Amsterdam_h2  3  1.000000  word2vector\n",
      "13    en_Amsterdam_h1  0  de_Amsterdam_h5  4  1.000000  word2vector\n",
      "14    en_Amsterdam_h1  0  de_Amsterdam_h6  5  0.999999  word2vector\n",
      "15    en_Amsterdam_h1  0  de_Amsterdam_h0  6  0.999999  word2vector\n",
      "16    en_Amsterdam_h1  0  de_Amsterdam_h8  7  0.999998  word2vector\n",
      "17    en_Amsterdam_h1  0  de_Amsterdam_h1  8  0.999998  word2vector\n",
      "18    en_Amsterdam_h2  0  de_Amsterdam_h3  0  1.000000  word2vector\n",
      "19    en_Amsterdam_h2  0  de_Amsterdam_h7  1  1.000000  word2vector\n",
      "20    en_Amsterdam_h2  0  de_Amsterdam_h4  2  1.000000  word2vector\n",
      "21    en_Amsterdam_h2  0  de_Amsterdam_h5  3  1.000000  word2vector\n",
      "22    en_Amsterdam_h2  0  de_Amsterdam_h2  4  1.000000  word2vector\n",
      "23    en_Amsterdam_h2  0  de_Amsterdam_h6  5  1.000000  word2vector\n",
      "24    en_Amsterdam_h2  0  de_Amsterdam_h0  6  1.000000  word2vector\n",
      "25    en_Amsterdam_h2  0  de_Amsterdam_h1  7  0.999998  word2vector\n",
      "26    en_Amsterdam_h2  0  de_Amsterdam_h8  8  0.999998  word2vector\n",
      "27    en_Amsterdam_h3  0  de_Amsterdam_h7  0  1.000000  word2vector\n",
      "28    en_Amsterdam_h3  0  de_Amsterdam_h5  1  1.000000  word2vector\n",
      "29    en_Amsterdam_h3  0  de_Amsterdam_h4  2  1.000000  word2vector\n",
      "..                ... ..              ... ..       ...          ...\n",
      "87    en_Amsterdam_h9  0  de_Amsterdam_h0  6  1.000000  word2vector\n",
      "88    en_Amsterdam_h9  0  de_Amsterdam_h1  7  0.999999  word2vector\n",
      "89    en_Amsterdam_h9  0  de_Amsterdam_h8  8  0.999998  word2vector\n",
      "90   en_Amsterdam_h10  0  de_Amsterdam_h7  0  1.000000  word2vector\n",
      "91   en_Amsterdam_h10  0  de_Amsterdam_h5  1  1.000000  word2vector\n",
      "92   en_Amsterdam_h10  0  de_Amsterdam_h4  2  1.000000  word2vector\n",
      "93   en_Amsterdam_h10  0  de_Amsterdam_h3  3  1.000000  word2vector\n",
      "94   en_Amsterdam_h10  0  de_Amsterdam_h6  4  1.000000  word2vector\n",
      "95   en_Amsterdam_h10  0  de_Amsterdam_h0  5  1.000000  word2vector\n",
      "96   en_Amsterdam_h10  0  de_Amsterdam_h2  6  1.000000  word2vector\n",
      "97   en_Amsterdam_h10  0  de_Amsterdam_h1  7  0.999999  word2vector\n",
      "98   en_Amsterdam_h10  0  de_Amsterdam_h8  8  0.999998  word2vector\n",
      "99   en_Amsterdam_h11  0  de_Amsterdam_h7  0  1.000000  word2vector\n",
      "100  en_Amsterdam_h11  0  de_Amsterdam_h3  1  1.000000  word2vector\n",
      "101  en_Amsterdam_h11  0  de_Amsterdam_h4  2  1.000000  word2vector\n",
      "102  en_Amsterdam_h11  0  de_Amsterdam_h5  3  1.000000  word2vector\n",
      "103  en_Amsterdam_h11  0  de_Amsterdam_h6  4  1.000000  word2vector\n",
      "104  en_Amsterdam_h11  0  de_Amsterdam_h2  5  1.000000  word2vector\n",
      "105  en_Amsterdam_h11  0  de_Amsterdam_h0  6  1.000000  word2vector\n",
      "106  en_Amsterdam_h11  0  de_Amsterdam_h1  7  0.999999  word2vector\n",
      "107  en_Amsterdam_h11  0  de_Amsterdam_h8  8  0.999998  word2vector\n",
      "108  en_Amsterdam_h12  0  de_Amsterdam_h5  0  0.999999  word2vector\n",
      "109  en_Amsterdam_h12  0  de_Amsterdam_h7  1  0.999999  word2vector\n",
      "110  en_Amsterdam_h12  0  de_Amsterdam_h4  2  0.999999  word2vector\n",
      "111  en_Amsterdam_h12  0  de_Amsterdam_h3  3  0.999999  word2vector\n",
      "112  en_Amsterdam_h12  0  de_Amsterdam_h0  4  0.999999  word2vector\n",
      "113  en_Amsterdam_h12  0  de_Amsterdam_h2  5  0.999999  word2vector\n",
      "114  en_Amsterdam_h12  0  de_Amsterdam_h6  6  0.999999  word2vector\n",
      "115  en_Amsterdam_h12  0  de_Amsterdam_h1  7  0.999998  word2vector\n",
      "116  en_Amsterdam_h12  0  de_Amsterdam_h8  8  0.999998  word2vector\n",
      "\n",
      "[117 rows x 6 columns]\n"
     ]
    }
   ],
   "source": [
    "# Englis-German Aspects Linking Content-Content\n",
    "\n",
    "getWordVectorSpaceModelRun(en_content, de_content, 'en', 'de', entity_name)"
   ]
  },
  {
   "cell_type": "code",
   "execution_count": 775,
   "metadata": {
    "collapsed": false,
    "scrolled": true
   },
   "outputs": [
    {
     "name": "stdout",
     "output_type": "stream",
     "text": [
      "                   0  1                2  3         4            5\n",
      "0    en_Amsterdam_h0  0  de_Amsterdam_h7  0  0.999991  word2vector\n",
      "1    en_Amsterdam_h0  0  de_Amsterdam_h0  1  0.999989  word2vector\n",
      "2    en_Amsterdam_h0  0  de_Amsterdam_h1  2  0.999978  word2vector\n",
      "3    en_Amsterdam_h0  0  de_Amsterdam_h6  3  0.999328  word2vector\n",
      "4    en_Amsterdam_h1  0  de_Amsterdam_h7  0  0.999991  word2vector\n",
      "5    en_Amsterdam_h1  0  de_Amsterdam_h0  1  0.999987  word2vector\n",
      "6    en_Amsterdam_h1  0  de_Amsterdam_h1  2  0.999977  word2vector\n",
      "7    en_Amsterdam_h1  0  de_Amsterdam_h6  3  0.999326  word2vector\n",
      "8    en_Amsterdam_h2  0  de_Amsterdam_h7  0  0.999991  word2vector\n",
      "9    en_Amsterdam_h2  0  de_Amsterdam_h0  1  0.999988  word2vector\n",
      "10   en_Amsterdam_h2  0  de_Amsterdam_h1  2  0.999978  word2vector\n",
      "11   en_Amsterdam_h2  0  de_Amsterdam_h6  3  0.999328  word2vector\n",
      "12   en_Amsterdam_h3  0  de_Amsterdam_h7  0  0.999990  word2vector\n",
      "13   en_Amsterdam_h3  0  de_Amsterdam_h0  1  0.999989  word2vector\n",
      "14   en_Amsterdam_h3  0  de_Amsterdam_h1  2  0.999978  word2vector\n",
      "15   en_Amsterdam_h3  0  de_Amsterdam_h6  3  0.999329  word2vector\n",
      "16   en_Amsterdam_h4  0  de_Amsterdam_h7  0  0.999991  word2vector\n",
      "17   en_Amsterdam_h4  0  de_Amsterdam_h0  1  0.999988  word2vector\n",
      "18   en_Amsterdam_h4  0  de_Amsterdam_h1  2  0.999978  word2vector\n",
      "19   en_Amsterdam_h4  0  de_Amsterdam_h6  3  0.999327  word2vector\n",
      "20   en_Amsterdam_h5  0  de_Amsterdam_h7  0  0.999991  word2vector\n",
      "21   en_Amsterdam_h5  0  de_Amsterdam_h0  1  0.999988  word2vector\n",
      "22   en_Amsterdam_h5  0  de_Amsterdam_h1  2  0.999978  word2vector\n",
      "23   en_Amsterdam_h5  0  de_Amsterdam_h6  3  0.999327  word2vector\n",
      "24   en_Amsterdam_h6  0  de_Amsterdam_h7  0  0.999991  word2vector\n",
      "25   en_Amsterdam_h6  0  de_Amsterdam_h0  1  0.999989  word2vector\n",
      "26   en_Amsterdam_h6  0  de_Amsterdam_h1  2  0.999979  word2vector\n",
      "27   en_Amsterdam_h6  0  de_Amsterdam_h6  3  0.999328  word2vector\n",
      "28   en_Amsterdam_h7  0  de_Amsterdam_h7  0  0.999991  word2vector\n",
      "29   en_Amsterdam_h7  0  de_Amsterdam_h0  1  0.999989  word2vector\n",
      "30   en_Amsterdam_h7  0  de_Amsterdam_h1  2  0.999978  word2vector\n",
      "31   en_Amsterdam_h7  0  de_Amsterdam_h6  3  0.999328  word2vector\n",
      "32   en_Amsterdam_h8  0  de_Amsterdam_h7  0  0.999990  word2vector\n",
      "33   en_Amsterdam_h8  0  de_Amsterdam_h0  1  0.999990  word2vector\n",
      "34   en_Amsterdam_h8  0  de_Amsterdam_h1  2  0.999978  word2vector\n",
      "35   en_Amsterdam_h8  0  de_Amsterdam_h6  3  0.999329  word2vector\n",
      "36   en_Amsterdam_h9  0  de_Amsterdam_h7  0  0.999992  word2vector\n",
      "37   en_Amsterdam_h9  0  de_Amsterdam_h0  1  0.999989  word2vector\n",
      "38   en_Amsterdam_h9  0  de_Amsterdam_h1  2  0.999979  word2vector\n",
      "39   en_Amsterdam_h9  0  de_Amsterdam_h6  3  0.999329  word2vector\n",
      "40  en_Amsterdam_h10  0  de_Amsterdam_h7  0  0.999991  word2vector\n",
      "41  en_Amsterdam_h10  0  de_Amsterdam_h0  1  0.999990  word2vector\n",
      "42  en_Amsterdam_h10  0  de_Amsterdam_h1  2  0.999979  word2vector\n",
      "43  en_Amsterdam_h10  0  de_Amsterdam_h6  3  0.999328  word2vector\n",
      "44  en_Amsterdam_h11  0  de_Amsterdam_h7  0  0.999992  word2vector\n",
      "45  en_Amsterdam_h11  0  de_Amsterdam_h0  1  0.999989  word2vector\n",
      "46  en_Amsterdam_h11  0  de_Amsterdam_h1  2  0.999979  word2vector\n",
      "47  en_Amsterdam_h11  0  de_Amsterdam_h6  3  0.999328  word2vector\n",
      "48  en_Amsterdam_h12  0  de_Amsterdam_h7  0  0.999992  word2vector\n",
      "49  en_Amsterdam_h12  0  de_Amsterdam_h0  1  0.999988  word2vector\n",
      "50  en_Amsterdam_h12  0  de_Amsterdam_h1  2  0.999979  word2vector\n",
      "51  en_Amsterdam_h12  0  de_Amsterdam_h6  3  0.999330  word2vector\n"
     ]
    }
   ],
   "source": [
    "# Englis-German Aspects Linking Content-Headline\n",
    "\n",
    "getWordVectorSpaceModelRun(en_content, de_headline, 'en', 'de', entity_name)"
   ]
  },
  {
   "cell_type": "code",
   "execution_count": 776,
   "metadata": {
    "collapsed": false,
    "scrolled": true
   },
   "outputs": [
    {
     "name": "stdout",
     "output_type": "stream",
     "text": [
      "                   0  1                2  3         4            5\n",
      "0    en_Amsterdam_h0  0  de_Amsterdam_h1  0  0.999994  word2vector\n",
      "1    en_Amsterdam_h0  0  de_Amsterdam_h8  1  0.999991  word2vector\n",
      "2    en_Amsterdam_h0  0  de_Amsterdam_h0  2  0.999989  word2vector\n",
      "3    en_Amsterdam_h0  0  de_Amsterdam_h7  3  0.999989  word2vector\n",
      "4    en_Amsterdam_h0  0  de_Amsterdam_h6  4  0.999989  word2vector\n",
      "5    en_Amsterdam_h0  0  de_Amsterdam_h5  5  0.999988  word2vector\n",
      "6    en_Amsterdam_h0  0  de_Amsterdam_h4  6  0.999988  word2vector\n",
      "7    en_Amsterdam_h0  0  de_Amsterdam_h3  7  0.999988  word2vector\n",
      "8    en_Amsterdam_h0  0  de_Amsterdam_h2  8  0.999988  word2vector\n",
      "9    en_Amsterdam_h5  0  de_Amsterdam_h3  0  0.999991  word2vector\n",
      "10   en_Amsterdam_h5  0  de_Amsterdam_h7  1  0.999991  word2vector\n",
      "11   en_Amsterdam_h5  0  de_Amsterdam_h5  2  0.999991  word2vector\n",
      "12   en_Amsterdam_h5  0  de_Amsterdam_h6  3  0.999990  word2vector\n",
      "13   en_Amsterdam_h5  0  de_Amsterdam_h4  4  0.999990  word2vector\n",
      "14   en_Amsterdam_h5  0  de_Amsterdam_h0  5  0.999990  word2vector\n",
      "15   en_Amsterdam_h5  0  de_Amsterdam_h2  6  0.999990  word2vector\n",
      "16   en_Amsterdam_h5  0  de_Amsterdam_h8  7  0.999990  word2vector\n",
      "17   en_Amsterdam_h5  0  de_Amsterdam_h1  8  0.999988  word2vector\n",
      "18   en_Amsterdam_h7  0  de_Amsterdam_h8  0  0.999354  word2vector\n",
      "19   en_Amsterdam_h7  0  de_Amsterdam_h1  1  0.999331  word2vector\n",
      "20   en_Amsterdam_h7  0  de_Amsterdam_h7  2  0.999328  word2vector\n",
      "21   en_Amsterdam_h7  0  de_Amsterdam_h6  3  0.999328  word2vector\n",
      "22   en_Amsterdam_h7  0  de_Amsterdam_h2  4  0.999328  word2vector\n",
      "23   en_Amsterdam_h7  0  de_Amsterdam_h4  5  0.999327  word2vector\n",
      "24   en_Amsterdam_h7  0  de_Amsterdam_h0  6  0.999327  word2vector\n",
      "25   en_Amsterdam_h7  0  de_Amsterdam_h5  7  0.999327  word2vector\n",
      "26   en_Amsterdam_h7  0  de_Amsterdam_h3  8  0.999327  word2vector\n",
      "27   en_Amsterdam_h9  0  de_Amsterdam_h1  0  0.999372  word2vector\n",
      "28   en_Amsterdam_h9  0  de_Amsterdam_h5  1  0.999368  word2vector\n",
      "29   en_Amsterdam_h9  0  de_Amsterdam_h0  2  0.999367  word2vector\n",
      "30   en_Amsterdam_h9  0  de_Amsterdam_h7  3  0.999367  word2vector\n",
      "31   en_Amsterdam_h9  0  de_Amsterdam_h2  4  0.999366  word2vector\n",
      "32   en_Amsterdam_h9  0  de_Amsterdam_h4  5  0.999366  word2vector\n",
      "33   en_Amsterdam_h9  0  de_Amsterdam_h3  6  0.999366  word2vector\n",
      "34   en_Amsterdam_h9  0  de_Amsterdam_h6  7  0.999366  word2vector\n",
      "35   en_Amsterdam_h9  0  de_Amsterdam_h8  8  0.999365  word2vector\n",
      "36  en_Amsterdam_h12  0  de_Amsterdam_h5  0  0.999740  word2vector\n",
      "37  en_Amsterdam_h12  0  de_Amsterdam_h4  1  0.999740  word2vector\n",
      "38  en_Amsterdam_h12  0  de_Amsterdam_h2  2  0.999740  word2vector\n",
      "39  en_Amsterdam_h12  0  de_Amsterdam_h3  3  0.999739  word2vector\n",
      "40  en_Amsterdam_h12  0  de_Amsterdam_h7  4  0.999739  word2vector\n",
      "41  en_Amsterdam_h12  0  de_Amsterdam_h1  5  0.999739  word2vector\n",
      "42  en_Amsterdam_h12  0  de_Amsterdam_h8  6  0.999739  word2vector\n",
      "43  en_Amsterdam_h12  0  de_Amsterdam_h0  7  0.999739  word2vector\n",
      "44  en_Amsterdam_h12  0  de_Amsterdam_h6  8  0.999738  word2vector\n"
     ]
    }
   ],
   "source": [
    "# Englis-German Aspects Linking Headline-Content\n",
    "\n",
    "getWordVectorSpaceModelRun(en_headline, de_content, 'en', 'de', entity_name)"
   ]
  },
  {
   "cell_type": "code",
   "execution_count": null,
   "metadata": {
    "collapsed": true
   },
   "outputs": [],
   "source": []
  },
  {
   "cell_type": "code",
   "execution_count": null,
   "metadata": {
    "collapsed": true
   },
   "outputs": [],
   "source": []
  },
  {
   "cell_type": "markdown",
   "metadata": {
    "collapsed": true
   },
   "source": [
    "# Word Vector Space Model with fastText"
   ]
  },
  {
   "cell_type": "code",
   "execution_count": 450,
   "metadata": {
    "collapsed": true
   },
   "outputs": [],
   "source": [
    "## input: \n",
    "    #1. list of preprocessing documents\n",
    "    #2. language model\n",
    "    #3. entity name\n",
    "    #4. language: En/De\n",
    "    #5. representation of aspects: headline/content\n",
    "## output: for each documnet, a document vector will be produced\n",
    "\n",
    "def getDocVectorsWVSMFinal(content, language_model):\n",
    "    \n",
    "    language_model = language_model\n",
    "\n",
    "    words = []\n",
    "    for word in language_model.vocab:\n",
    "        words.append(word)\n",
    "\n",
    "    doc_vectors = list()\n",
    "    \n",
    "    for i in range(len(content)):\n",
    "        #print(content[i])\n",
    "        vectorSum = [0.0000]*300\n",
    "        l = 0\n",
    "        for el in content[i]:\n",
    "            if el in words:\n",
    "                #print(list(vectors[el]))\n",
    "                vectorSum = list(map(add, list(language_model[el]), vectorSum))\n",
    "                l+=1\n",
    "            #else:\n",
    "                #print(el)\n",
    "        #print(vectorSum)\n",
    "        for m in range(len(vectorSum)):\n",
    "            if vectorSum[m] != 0:\n",
    "                vectorSum[m] = float(vectorSum[m])/l ###average the vector sum\n",
    "            else:\n",
    "                vectorSum[m] = vectorSum[m]\n",
    "\n",
    "        doc_vectors.append(vectorSum)\n",
    "    \n",
    "    #doc_vectors_final = []\n",
    "    #for vec in doc_vectors:\n",
    "        #doc = []\n",
    "        #for dim in vec:\n",
    "            \n",
    "            #doc.append(float(dim))\n",
    "        \n",
    "        #doc_vectors_final.append(doc)\n",
    "            \n",
    "        \n",
    "    #with open(language+'_'+termname+'_'+aspect+\".json\", 'w') as f:\n",
    "        #json.dump(doc_vectors_final, f)\n",
    "  \n",
    "    \n",
    "    return doc_vectors \n",
    "\n"
   ]
  },
  {
   "cell_type": "code",
   "execution_count": 451,
   "metadata": {
    "collapsed": true
   },
   "outputs": [],
   "source": [
    "# input: 1* n dims sparse matrix, or single vector from query_vect/ train_tfidf matrix\n",
    "def getSquareSumWE(vector):\n",
    "    squaresum = 0\n",
    "    for i in range(len(vector)):\n",
    "        squaresum += vector[i]* vector[i]\n",
    "        \n",
    "    return squaresum"
   ]
  },
  {
   "cell_type": "code",
   "execution_count": 452,
   "metadata": {
    "collapsed": true
   },
   "outputs": [],
   "source": [
    "# input: two 1* n sparse matrixs, or single vector from query_vect/ train_tfidf matrixs\n",
    "# return the cosine sim of two vectors, type: float\n",
    "\n",
    "def getCosineSimilarityWE(query_vector, doc_vector):\n",
    "    squaresum_query = getSquareSumWE(query_vector)\n",
    "    squaresum_doc= getSquareSumWE(doc_vector)\n",
    "    if math.sqrt(squaresum_query)*math.sqrt(squaresum_doc) > 0:\n",
    "        sim = np.dot(query_vector, doc_vector)/(math.sqrt(squaresum_query)*math.sqrt(squaresum_doc))\n",
    "        return sim\n",
    "    else:\n",
    "        return np.dot(query_vector, doc_vector)\n",
    "        \n",
    " "
   ]
  },
  {
   "cell_type": "code",
   "execution_count": 453,
   "metadata": {
    "collapsed": true
   },
   "outputs": [],
   "source": [
    "## input:\n",
    "# assume we want to link wiki-text in deutsch(arrow language) with the wiki-text in english(target):\n",
    "# src_content: is the source page data of the wikipedia item in laguage a\n",
    "# trs_content: is the translation data of the wikipedia item from language b to language a\n",
    "# en_model: english language model\n",
    "# de_model: deutsch language\n",
    "# arrow_la: arrow language of the wiki-text\n",
    "# target_la: target language of the wiki-text\n",
    "# termname: entry name of the wiki-text\n",
    "\n",
    "## return: RUN file for Trec_eval\n",
    "\n",
    "def getWordVectorSpace2Run(en_content, de_content, DV_en, DV_de, la1, la2, termname):    \n",
    "    \n",
    "    ### get the similarity of query with each doc leader\n",
    "    \n",
    "    #get document vector for each aspect\n",
    "    DV_en_content = DV_en\n",
    "    DV_de_content = DV_de\n",
    "    \n",
    "    \n",
    "    result = []\n",
    "    for j in range(len(DV_en_content)):\n",
    "        #print (DV_de_content[j][:10])\n",
    "        \n",
    "        sims = []\n",
    "        results_ID = []\n",
    "        results = []\n",
    "        for i in range(len(DV_de_content)):\n",
    "            s = getCosineSimilarityWE(DV_en_content[j], DV_de_content[i])\n",
    "            #if type(s)is not None:\n",
    "            #print(s)\n",
    "            sims.append(s)\n",
    "        \n",
    "        for x in range(len(sims)):\n",
    "            if sims[x] >0:\n",
    "                results_ID.append(x)\n",
    "                results.append(sims[x])\n",
    "        \n",
    "        #print(results, results_ID)\n",
    "        \n",
    "        if len(results) >0 and len(results_ID)>0:\n",
    "            results, results_ID= zip(*sorted(zip(results, results_ID), reverse=True))      \n",
    "       \n",
    "        \n",
    "        for m in range(len(results)):\n",
    "            result.append([la1+'_'+termname+\"_h\"+str(j), 0, la2+'_'+termname+'_h'+str(results_ID[m]), m, results[m], 'wordembedding'])\n",
    "\n",
    "    df = pd.DataFrame(result)\n",
    "    if len(de_content[0]) > 10 and len(en_content[0])>10 :\n",
    "        df.to_csv('WVSMFinal_'+termname+'_'+la1+'_'+la2+'_text.txt', header=None, index=None, sep=' ', mode='a')\n",
    "    elif len(de_content[0]) < 10 and len(en_content[0])<10:\n",
    "        df.to_csv('WVSMFinal_'+termname+'_'+la1+'_'+la2+'_headline.txt', header=None, index=None, sep=' ', mode='a')\n",
    "    elif len(de_content[0]) < 10 and len(en_content[0])>10:\n",
    "        df.to_csv('WVSMFinal_'+termname+'_'+la1+'_'+la2+'_headline_text.txt', header=None, index=None, sep=' ', mode='a')\n",
    "    else:\n",
    "        df.to_csv('WVSMFinal_'+termname+'_'+la1+'_'+la2+'_text_headline.txt', header=None, index=None, sep=' ', mode='a')     \n",
    "    \n",
    "    print(df)"
   ]
  },
  {
   "cell_type": "code",
   "execution_count": 777,
   "metadata": {
    "collapsed": true
   },
   "outputs": [],
   "source": [
    "en_model = de_model"
   ]
  },
  {
   "cell_type": "code",
   "execution_count": 778,
   "metadata": {
    "collapsed": false
   },
   "outputs": [],
   "source": [
    "DV_en_headline = getDocVectorsWVSMFinal(en_headline, en_model)\n",
    "DV_en_content = getDocVectorsWVSMFinal(en_content, en_model)\n",
    "\n",
    "DV_de_headline = getDocVectorsWVSMFinal(de_headline, en_model)\n",
    "DV_de_content = getDocVectorsWVSMFinal(de_content, en_model)"
   ]
  },
  {
   "cell_type": "code",
   "execution_count": 779,
   "metadata": {
    "collapsed": false,
    "scrolled": true
   },
   "outputs": [
    {
     "name": "stdout",
     "output_type": "stream",
     "text": [
      "                    0  1                2  3         4              5\n",
      "0     en_Amsterdam_h0  0  de_Amsterdam_h0  0  1.000000  wordembedding\n",
      "1     en_Amsterdam_h0  0  de_Amsterdam_h8  1  0.328429  wordembedding\n",
      "2     en_Amsterdam_h0  0  de_Amsterdam_h1  2  0.267095  wordembedding\n",
      "3     en_Amsterdam_h0  0  de_Amsterdam_h6  3  0.263959  wordembedding\n",
      "4     en_Amsterdam_h0  0  de_Amsterdam_h7  4  0.261862  wordembedding\n",
      "5     en_Amsterdam_h0  0  de_Amsterdam_h5  5  0.261492  wordembedding\n",
      "6     en_Amsterdam_h0  0  de_Amsterdam_h2  6  0.242564  wordembedding\n",
      "7     en_Amsterdam_h0  0  de_Amsterdam_h4  7  0.238223  wordembedding\n",
      "8     en_Amsterdam_h0  0  de_Amsterdam_h3  8  0.224148  wordembedding\n",
      "9     en_Amsterdam_h1  0  de_Amsterdam_h2  0  0.812261  wordembedding\n",
      "10    en_Amsterdam_h1  0  de_Amsterdam_h3  1  0.805303  wordembedding\n",
      "11    en_Amsterdam_h1  0  de_Amsterdam_h6  2  0.800517  wordembedding\n",
      "12    en_Amsterdam_h1  0  de_Amsterdam_h4  3  0.786783  wordembedding\n",
      "13    en_Amsterdam_h1  0  de_Amsterdam_h5  4  0.783432  wordembedding\n",
      "14    en_Amsterdam_h1  0  de_Amsterdam_h7  5  0.722408  wordembedding\n",
      "15    en_Amsterdam_h1  0  de_Amsterdam_h8  6  0.685078  wordembedding\n",
      "16    en_Amsterdam_h1  0  de_Amsterdam_h1  7  0.561881  wordembedding\n",
      "17    en_Amsterdam_h1  0  de_Amsterdam_h0  8  0.284131  wordembedding\n",
      "18    en_Amsterdam_h2  0  de_Amsterdam_h3  0  0.975021  wordembedding\n",
      "19    en_Amsterdam_h2  0  de_Amsterdam_h6  1  0.901064  wordembedding\n",
      "20    en_Amsterdam_h2  0  de_Amsterdam_h2  2  0.898076  wordembedding\n",
      "21    en_Amsterdam_h2  0  de_Amsterdam_h4  3  0.886607  wordembedding\n",
      "22    en_Amsterdam_h2  0  de_Amsterdam_h5  4  0.870822  wordembedding\n",
      "23    en_Amsterdam_h2  0  de_Amsterdam_h7  5  0.829649  wordembedding\n",
      "24    en_Amsterdam_h2  0  de_Amsterdam_h8  6  0.739127  wordembedding\n",
      "25    en_Amsterdam_h2  0  de_Amsterdam_h1  7  0.652533  wordembedding\n",
      "26    en_Amsterdam_h2  0  de_Amsterdam_h0  8  0.231957  wordembedding\n",
      "27    en_Amsterdam_h3  0  de_Amsterdam_h2  0  0.964203  wordembedding\n",
      "28    en_Amsterdam_h3  0  de_Amsterdam_h4  1  0.839497  wordembedding\n",
      "29    en_Amsterdam_h3  0  de_Amsterdam_h3  2  0.838500  wordembedding\n",
      "..                ... ..              ... ..       ...            ...\n",
      "87    en_Amsterdam_h9  0  de_Amsterdam_h8  6  0.679933  wordembedding\n",
      "88    en_Amsterdam_h9  0  de_Amsterdam_h1  7  0.643496  wordembedding\n",
      "89    en_Amsterdam_h9  0  de_Amsterdam_h0  8  0.270819  wordembedding\n",
      "90   en_Amsterdam_h10  0  de_Amsterdam_h4  0  0.865455  wordembedding\n",
      "91   en_Amsterdam_h10  0  de_Amsterdam_h6  1  0.865411  wordembedding\n",
      "92   en_Amsterdam_h10  0  de_Amsterdam_h7  2  0.857761  wordembedding\n",
      "93   en_Amsterdam_h10  0  de_Amsterdam_h2  3  0.855960  wordembedding\n",
      "94   en_Amsterdam_h10  0  de_Amsterdam_h3  4  0.844966  wordembedding\n",
      "95   en_Amsterdam_h10  0  de_Amsterdam_h5  5  0.839779  wordembedding\n",
      "96   en_Amsterdam_h10  0  de_Amsterdam_h1  6  0.711583  wordembedding\n",
      "97   en_Amsterdam_h10  0  de_Amsterdam_h8  7  0.704832  wordembedding\n",
      "98   en_Amsterdam_h10  0  de_Amsterdam_h0  8  0.246337  wordembedding\n",
      "99   en_Amsterdam_h11  0  de_Amsterdam_h6  0  0.850093  wordembedding\n",
      "100  en_Amsterdam_h11  0  de_Amsterdam_h4  1  0.843746  wordembedding\n",
      "101  en_Amsterdam_h11  0  de_Amsterdam_h3  2  0.821361  wordembedding\n",
      "102  en_Amsterdam_h11  0  de_Amsterdam_h5  3  0.800633  wordembedding\n",
      "103  en_Amsterdam_h11  0  de_Amsterdam_h7  4  0.790284  wordembedding\n",
      "104  en_Amsterdam_h11  0  de_Amsterdam_h2  5  0.790162  wordembedding\n",
      "105  en_Amsterdam_h11  0  de_Amsterdam_h8  6  0.715778  wordembedding\n",
      "106  en_Amsterdam_h11  0  de_Amsterdam_h1  7  0.626506  wordembedding\n",
      "107  en_Amsterdam_h11  0  de_Amsterdam_h0  8  0.273100  wordembedding\n",
      "108  en_Amsterdam_h12  0  de_Amsterdam_h7  0  0.809991  wordembedding\n",
      "109  en_Amsterdam_h12  0  de_Amsterdam_h5  1  0.790265  wordembedding\n",
      "110  en_Amsterdam_h12  0  de_Amsterdam_h6  2  0.784625  wordembedding\n",
      "111  en_Amsterdam_h12  0  de_Amsterdam_h4  3  0.771168  wordembedding\n",
      "112  en_Amsterdam_h12  0  de_Amsterdam_h3  4  0.765635  wordembedding\n",
      "113  en_Amsterdam_h12  0  de_Amsterdam_h2  5  0.759581  wordembedding\n",
      "114  en_Amsterdam_h12  0  de_Amsterdam_h1  6  0.690742  wordembedding\n",
      "115  en_Amsterdam_h12  0  de_Amsterdam_h8  7  0.686300  wordembedding\n",
      "116  en_Amsterdam_h12  0  de_Amsterdam_h0  8  0.262313  wordembedding\n",
      "\n",
      "[117 rows x 6 columns]\n"
     ]
    }
   ],
   "source": [
    "getWordVectorSpace2Run(en_headline, de_headline, DV_en_headline, DV_de_headline, 'en','de', entity_name)"
   ]
  },
  {
   "cell_type": "code",
   "execution_count": 780,
   "metadata": {
    "collapsed": false,
    "scrolled": true
   },
   "outputs": [
    {
     "name": "stdout",
     "output_type": "stream",
     "text": [
      "                    0  1                2  3         4              5\n",
      "0     en_Amsterdam_h0  0  de_Amsterdam_h1  0  0.600057  wordembedding\n",
      "1     en_Amsterdam_h0  0  de_Amsterdam_h8  1  0.536614  wordembedding\n",
      "2     en_Amsterdam_h0  0  de_Amsterdam_h0  2  0.457167  wordembedding\n",
      "3     en_Amsterdam_h0  0  de_Amsterdam_h7  3  0.402822  wordembedding\n",
      "4     en_Amsterdam_h0  0  de_Amsterdam_h6  4  0.386379  wordembedding\n",
      "5     en_Amsterdam_h0  0  de_Amsterdam_h3  5  0.326772  wordembedding\n",
      "6     en_Amsterdam_h0  0  de_Amsterdam_h4  6  0.310785  wordembedding\n",
      "7     en_Amsterdam_h0  0  de_Amsterdam_h2  7  0.302455  wordembedding\n",
      "8     en_Amsterdam_h0  0  de_Amsterdam_h5  8  0.299950  wordembedding\n",
      "9     en_Amsterdam_h1  0  de_Amsterdam_h4  0  0.498023  wordembedding\n",
      "10    en_Amsterdam_h1  0  de_Amsterdam_h6  1  0.494421  wordembedding\n",
      "11    en_Amsterdam_h1  0  de_Amsterdam_h3  2  0.492393  wordembedding\n",
      "12    en_Amsterdam_h1  0  de_Amsterdam_h0  3  0.487803  wordembedding\n",
      "13    en_Amsterdam_h1  0  de_Amsterdam_h7  4  0.487678  wordembedding\n",
      "14    en_Amsterdam_h1  0  de_Amsterdam_h5  5  0.483735  wordembedding\n",
      "15    en_Amsterdam_h1  0  de_Amsterdam_h1  6  0.480922  wordembedding\n",
      "16    en_Amsterdam_h1  0  de_Amsterdam_h2  7  0.457532  wordembedding\n",
      "17    en_Amsterdam_h1  0  de_Amsterdam_h8  8  0.449589  wordembedding\n",
      "18    en_Amsterdam_h2  0  de_Amsterdam_h6  0  0.590217  wordembedding\n",
      "19    en_Amsterdam_h2  0  de_Amsterdam_h4  1  0.584768  wordembedding\n",
      "20    en_Amsterdam_h2  0  de_Amsterdam_h3  2  0.582073  wordembedding\n",
      "21    en_Amsterdam_h2  0  de_Amsterdam_h7  3  0.572952  wordembedding\n",
      "22    en_Amsterdam_h2  0  de_Amsterdam_h0  4  0.564481  wordembedding\n",
      "23    en_Amsterdam_h2  0  de_Amsterdam_h5  5  0.563617  wordembedding\n",
      "24    en_Amsterdam_h2  0  de_Amsterdam_h2  6  0.553149  wordembedding\n",
      "25    en_Amsterdam_h2  0  de_Amsterdam_h1  7  0.534876  wordembedding\n",
      "26    en_Amsterdam_h2  0  de_Amsterdam_h8  8  0.513638  wordembedding\n",
      "27    en_Amsterdam_h3  0  de_Amsterdam_h7  0  0.569587  wordembedding\n",
      "28    en_Amsterdam_h3  0  de_Amsterdam_h3  1  0.568207  wordembedding\n",
      "29    en_Amsterdam_h3  0  de_Amsterdam_h0  2  0.566514  wordembedding\n",
      "..                ... ..              ... ..       ...            ...\n",
      "87    en_Amsterdam_h9  0  de_Amsterdam_h2  6  0.560215  wordembedding\n",
      "88    en_Amsterdam_h9  0  de_Amsterdam_h1  7  0.541845  wordembedding\n",
      "89    en_Amsterdam_h9  0  de_Amsterdam_h8  8  0.458161  wordembedding\n",
      "90   en_Amsterdam_h10  0  de_Amsterdam_h6  0  0.591522  wordembedding\n",
      "91   en_Amsterdam_h10  0  de_Amsterdam_h3  1  0.590007  wordembedding\n",
      "92   en_Amsterdam_h10  0  de_Amsterdam_h4  2  0.589611  wordembedding\n",
      "93   en_Amsterdam_h10  0  de_Amsterdam_h7  3  0.583166  wordembedding\n",
      "94   en_Amsterdam_h10  0  de_Amsterdam_h5  4  0.570999  wordembedding\n",
      "95   en_Amsterdam_h10  0  de_Amsterdam_h0  5  0.566789  wordembedding\n",
      "96   en_Amsterdam_h10  0  de_Amsterdam_h2  6  0.556008  wordembedding\n",
      "97   en_Amsterdam_h10  0  de_Amsterdam_h1  7  0.544053  wordembedding\n",
      "98   en_Amsterdam_h10  0  de_Amsterdam_h8  8  0.486079  wordembedding\n",
      "99   en_Amsterdam_h11  0  de_Amsterdam_h6  0  0.576459  wordembedding\n",
      "100  en_Amsterdam_h11  0  de_Amsterdam_h4  1  0.567251  wordembedding\n",
      "101  en_Amsterdam_h11  0  de_Amsterdam_h7  2  0.561341  wordembedding\n",
      "102  en_Amsterdam_h11  0  de_Amsterdam_h3  3  0.556744  wordembedding\n",
      "103  en_Amsterdam_h11  0  de_Amsterdam_h5  4  0.544571  wordembedding\n",
      "104  en_Amsterdam_h11  0  de_Amsterdam_h0  5  0.544562  wordembedding\n",
      "105  en_Amsterdam_h11  0  de_Amsterdam_h2  6  0.530030  wordembedding\n",
      "106  en_Amsterdam_h11  0  de_Amsterdam_h1  7  0.526004  wordembedding\n",
      "107  en_Amsterdam_h11  0  de_Amsterdam_h8  8  0.501045  wordembedding\n",
      "108  en_Amsterdam_h12  0  de_Amsterdam_h7  0  0.578862  wordembedding\n",
      "109  en_Amsterdam_h12  0  de_Amsterdam_h5  1  0.578573  wordembedding\n",
      "110  en_Amsterdam_h12  0  de_Amsterdam_h4  2  0.576760  wordembedding\n",
      "111  en_Amsterdam_h12  0  de_Amsterdam_h3  3  0.576708  wordembedding\n",
      "112  en_Amsterdam_h12  0  de_Amsterdam_h6  4  0.575212  wordembedding\n",
      "113  en_Amsterdam_h12  0  de_Amsterdam_h0  5  0.561606  wordembedding\n",
      "114  en_Amsterdam_h12  0  de_Amsterdam_h2  6  0.548804  wordembedding\n",
      "115  en_Amsterdam_h12  0  de_Amsterdam_h1  7  0.540359  wordembedding\n",
      "116  en_Amsterdam_h12  0  de_Amsterdam_h8  8  0.468857  wordembedding\n",
      "\n",
      "[117 rows x 6 columns]\n"
     ]
    }
   ],
   "source": [
    "getWordVectorSpace2Run(en_headline, de_content, DV_en_headline, DV_de_content, 'en','de', entity_name)"
   ]
  },
  {
   "cell_type": "code",
   "execution_count": 781,
   "metadata": {
    "collapsed": false,
    "scrolled": true
   },
   "outputs": [
    {
     "name": "stdout",
     "output_type": "stream",
     "text": [
      "                    0  1                2  3         4              5\n",
      "0     en_Amsterdam_h0  0  de_Amsterdam_h7  0  0.989807  wordembedding\n",
      "1     en_Amsterdam_h0  0  de_Amsterdam_h0  1  0.984952  wordembedding\n",
      "2     en_Amsterdam_h0  0  de_Amsterdam_h3  2  0.984568  wordembedding\n",
      "3     en_Amsterdam_h0  0  de_Amsterdam_h6  3  0.983110  wordembedding\n",
      "4     en_Amsterdam_h0  0  de_Amsterdam_h4  4  0.981431  wordembedding\n",
      "5     en_Amsterdam_h0  0  de_Amsterdam_h2  5  0.969671  wordembedding\n",
      "6     en_Amsterdam_h0  0  de_Amsterdam_h5  6  0.969355  wordembedding\n",
      "7     en_Amsterdam_h0  0  de_Amsterdam_h1  7  0.940698  wordembedding\n",
      "8     en_Amsterdam_h0  0  de_Amsterdam_h8  8  0.766341  wordembedding\n",
      "9     en_Amsterdam_h1  0  de_Amsterdam_h3  0  0.975771  wordembedding\n",
      "10    en_Amsterdam_h1  0  de_Amsterdam_h4  1  0.969266  wordembedding\n",
      "11    en_Amsterdam_h1  0  de_Amsterdam_h5  2  0.963544  wordembedding\n",
      "12    en_Amsterdam_h1  0  de_Amsterdam_h7  3  0.961434  wordembedding\n",
      "13    en_Amsterdam_h1  0  de_Amsterdam_h2  4  0.959964  wordembedding\n",
      "14    en_Amsterdam_h1  0  de_Amsterdam_h0  5  0.953676  wordembedding\n",
      "15    en_Amsterdam_h1  0  de_Amsterdam_h6  6  0.947847  wordembedding\n",
      "16    en_Amsterdam_h1  0  de_Amsterdam_h1  7  0.891015  wordembedding\n",
      "17    en_Amsterdam_h1  0  de_Amsterdam_h8  8  0.717106  wordembedding\n",
      "18    en_Amsterdam_h2  0  de_Amsterdam_h3  0  0.995898  wordembedding\n",
      "19    en_Amsterdam_h2  0  de_Amsterdam_h4  1  0.990135  wordembedding\n",
      "20    en_Amsterdam_h2  0  de_Amsterdam_h7  2  0.986941  wordembedding\n",
      "21    en_Amsterdam_h2  0  de_Amsterdam_h6  3  0.982826  wordembedding\n",
      "22    en_Amsterdam_h2  0  de_Amsterdam_h5  4  0.982336  wordembedding\n",
      "23    en_Amsterdam_h2  0  de_Amsterdam_h2  5  0.975447  wordembedding\n",
      "24    en_Amsterdam_h2  0  de_Amsterdam_h0  6  0.972158  wordembedding\n",
      "25    en_Amsterdam_h2  0  de_Amsterdam_h1  7  0.921765  wordembedding\n",
      "26    en_Amsterdam_h2  0  de_Amsterdam_h8  8  0.733397  wordembedding\n",
      "27    en_Amsterdam_h3  0  de_Amsterdam_h2  0  0.982523  wordembedding\n",
      "28    en_Amsterdam_h3  0  de_Amsterdam_h5  1  0.973876  wordembedding\n",
      "29    en_Amsterdam_h3  0  de_Amsterdam_h7  2  0.971229  wordembedding\n",
      "..                ... ..              ... ..       ...            ...\n",
      "87    en_Amsterdam_h9  0  de_Amsterdam_h2  6  0.961589  wordembedding\n",
      "88    en_Amsterdam_h9  0  de_Amsterdam_h1  7  0.940746  wordembedding\n",
      "89    en_Amsterdam_h9  0  de_Amsterdam_h8  8  0.764501  wordembedding\n",
      "90   en_Amsterdam_h10  0  de_Amsterdam_h6  0  0.975692  wordembedding\n",
      "91   en_Amsterdam_h10  0  de_Amsterdam_h7  1  0.974942  wordembedding\n",
      "92   en_Amsterdam_h10  0  de_Amsterdam_h3  2  0.970035  wordembedding\n",
      "93   en_Amsterdam_h10  0  de_Amsterdam_h4  3  0.967115  wordembedding\n",
      "94   en_Amsterdam_h10  0  de_Amsterdam_h0  4  0.962993  wordembedding\n",
      "95   en_Amsterdam_h10  0  de_Amsterdam_h5  5  0.958567  wordembedding\n",
      "96   en_Amsterdam_h10  0  de_Amsterdam_h2  6  0.946628  wordembedding\n",
      "97   en_Amsterdam_h10  0  de_Amsterdam_h1  7  0.937869  wordembedding\n",
      "98   en_Amsterdam_h10  0  de_Amsterdam_h8  8  0.752681  wordembedding\n",
      "99   en_Amsterdam_h11  0  de_Amsterdam_h7  0  0.979671  wordembedding\n",
      "100  en_Amsterdam_h11  0  de_Amsterdam_h6  1  0.977101  wordembedding\n",
      "101  en_Amsterdam_h11  0  de_Amsterdam_h4  2  0.973265  wordembedding\n",
      "102  en_Amsterdam_h11  0  de_Amsterdam_h3  3  0.972391  wordembedding\n",
      "103  en_Amsterdam_h11  0  de_Amsterdam_h0  4  0.965455  wordembedding\n",
      "104  en_Amsterdam_h11  0  de_Amsterdam_h5  5  0.964500  wordembedding\n",
      "105  en_Amsterdam_h11  0  de_Amsterdam_h2  6  0.957269  wordembedding\n",
      "106  en_Amsterdam_h11  0  de_Amsterdam_h1  7  0.926663  wordembedding\n",
      "107  en_Amsterdam_h11  0  de_Amsterdam_h8  8  0.756259  wordembedding\n",
      "108  en_Amsterdam_h12  0  de_Amsterdam_h5  0  0.962317  wordembedding\n",
      "109  en_Amsterdam_h12  0  de_Amsterdam_h4  1  0.957449  wordembedding\n",
      "110  en_Amsterdam_h12  0  de_Amsterdam_h3  2  0.956840  wordembedding\n",
      "111  en_Amsterdam_h12  0  de_Amsterdam_h7  3  0.953854  wordembedding\n",
      "112  en_Amsterdam_h12  0  de_Amsterdam_h6  4  0.949990  wordembedding\n",
      "113  en_Amsterdam_h12  0  de_Amsterdam_h2  5  0.935500  wordembedding\n",
      "114  en_Amsterdam_h12  0  de_Amsterdam_h0  6  0.929411  wordembedding\n",
      "115  en_Amsterdam_h12  0  de_Amsterdam_h1  7  0.892477  wordembedding\n",
      "116  en_Amsterdam_h12  0  de_Amsterdam_h8  8  0.695330  wordembedding\n",
      "\n",
      "[117 rows x 6 columns]\n"
     ]
    }
   ],
   "source": [
    "getWordVectorSpace2Run(en_content, de_content, DV_en_content, DV_de_content, 'en','de', entity_name)"
   ]
  },
  {
   "cell_type": "code",
   "execution_count": 782,
   "metadata": {
    "collapsed": false,
    "scrolled": true
   },
   "outputs": [
    {
     "name": "stdout",
     "output_type": "stream",
     "text": [
      "                    0  1                2  3         4              5\n",
      "0     en_Amsterdam_h0  0  de_Amsterdam_h1  0  0.761034  wordembedding\n",
      "1     en_Amsterdam_h0  0  de_Amsterdam_h7  1  0.702296  wordembedding\n",
      "2     en_Amsterdam_h0  0  de_Amsterdam_h8  2  0.549765  wordembedding\n",
      "3     en_Amsterdam_h0  0  de_Amsterdam_h6  3  0.526005  wordembedding\n",
      "4     en_Amsterdam_h0  0  de_Amsterdam_h5  4  0.519510  wordembedding\n",
      "5     en_Amsterdam_h0  0  de_Amsterdam_h2  5  0.516462  wordembedding\n",
      "6     en_Amsterdam_h0  0  de_Amsterdam_h3  6  0.503821  wordembedding\n",
      "7     en_Amsterdam_h0  0  de_Amsterdam_h4  7  0.497746  wordembedding\n",
      "8     en_Amsterdam_h0  0  de_Amsterdam_h0  8  0.386591  wordembedding\n",
      "9     en_Amsterdam_h1  0  de_Amsterdam_h1  0  0.743821  wordembedding\n",
      "10    en_Amsterdam_h1  0  de_Amsterdam_h7  1  0.670341  wordembedding\n",
      "11    en_Amsterdam_h1  0  de_Amsterdam_h8  2  0.529771  wordembedding\n",
      "12    en_Amsterdam_h1  0  de_Amsterdam_h2  3  0.496139  wordembedding\n",
      "13    en_Amsterdam_h1  0  de_Amsterdam_h5  4  0.493726  wordembedding\n",
      "14    en_Amsterdam_h1  0  de_Amsterdam_h6  5  0.492961  wordembedding\n",
      "15    en_Amsterdam_h1  0  de_Amsterdam_h3  6  0.482027  wordembedding\n",
      "16    en_Amsterdam_h1  0  de_Amsterdam_h4  7  0.473275  wordembedding\n",
      "17    en_Amsterdam_h1  0  de_Amsterdam_h0  8  0.288607  wordembedding\n",
      "18    en_Amsterdam_h2  0  de_Amsterdam_h1  0  0.755112  wordembedding\n",
      "19    en_Amsterdam_h2  0  de_Amsterdam_h7  1  0.702943  wordembedding\n",
      "20    en_Amsterdam_h2  0  de_Amsterdam_h8  2  0.543427  wordembedding\n",
      "21    en_Amsterdam_h2  0  de_Amsterdam_h6  3  0.520682  wordembedding\n",
      "22    en_Amsterdam_h2  0  de_Amsterdam_h5  4  0.517214  wordembedding\n",
      "23    en_Amsterdam_h2  0  de_Amsterdam_h2  5  0.511469  wordembedding\n",
      "24    en_Amsterdam_h2  0  de_Amsterdam_h3  6  0.503733  wordembedding\n",
      "25    en_Amsterdam_h2  0  de_Amsterdam_h4  7  0.501514  wordembedding\n",
      "26    en_Amsterdam_h2  0  de_Amsterdam_h0  8  0.337022  wordembedding\n",
      "27    en_Amsterdam_h3  0  de_Amsterdam_h1  0  0.743718  wordembedding\n",
      "28    en_Amsterdam_h3  0  de_Amsterdam_h7  1  0.670156  wordembedding\n",
      "29    en_Amsterdam_h3  0  de_Amsterdam_h8  2  0.551619  wordembedding\n",
      "..                ... ..              ... ..       ...            ...\n",
      "87    en_Amsterdam_h9  0  de_Amsterdam_h4  6  0.497287  wordembedding\n",
      "88    en_Amsterdam_h9  0  de_Amsterdam_h3  7  0.492171  wordembedding\n",
      "89    en_Amsterdam_h9  0  de_Amsterdam_h0  8  0.410578  wordembedding\n",
      "90   en_Amsterdam_h10  0  de_Amsterdam_h1  0  0.762313  wordembedding\n",
      "91   en_Amsterdam_h10  0  de_Amsterdam_h7  1  0.694069  wordembedding\n",
      "92   en_Amsterdam_h10  0  de_Amsterdam_h8  2  0.554721  wordembedding\n",
      "93   en_Amsterdam_h10  0  de_Amsterdam_h6  3  0.537657  wordembedding\n",
      "94   en_Amsterdam_h10  0  de_Amsterdam_h5  4  0.532465  wordembedding\n",
      "95   en_Amsterdam_h10  0  de_Amsterdam_h2  5  0.528884  wordembedding\n",
      "96   en_Amsterdam_h10  0  de_Amsterdam_h4  6  0.512698  wordembedding\n",
      "97   en_Amsterdam_h10  0  de_Amsterdam_h3  7  0.511519  wordembedding\n",
      "98   en_Amsterdam_h10  0  de_Amsterdam_h0  8  0.429295  wordembedding\n",
      "99   en_Amsterdam_h11  0  de_Amsterdam_h1  0  0.745804  wordembedding\n",
      "100  en_Amsterdam_h11  0  de_Amsterdam_h7  1  0.693314  wordembedding\n",
      "101  en_Amsterdam_h11  0  de_Amsterdam_h8  2  0.560521  wordembedding\n",
      "102  en_Amsterdam_h11  0  de_Amsterdam_h6  3  0.531718  wordembedding\n",
      "103  en_Amsterdam_h11  0  de_Amsterdam_h5  4  0.522442  wordembedding\n",
      "104  en_Amsterdam_h11  0  de_Amsterdam_h2  5  0.516155  wordembedding\n",
      "105  en_Amsterdam_h11  0  de_Amsterdam_h4  6  0.510714  wordembedding\n",
      "106  en_Amsterdam_h11  0  de_Amsterdam_h3  7  0.506733  wordembedding\n",
      "107  en_Amsterdam_h11  0  de_Amsterdam_h0  8  0.399794  wordembedding\n",
      "108  en_Amsterdam_h12  0  de_Amsterdam_h1  0  0.757653  wordembedding\n",
      "109  en_Amsterdam_h12  0  de_Amsterdam_h7  1  0.684343  wordembedding\n",
      "110  en_Amsterdam_h12  0  de_Amsterdam_h8  2  0.503199  wordembedding\n",
      "111  en_Amsterdam_h12  0  de_Amsterdam_h5  3  0.492890  wordembedding\n",
      "112  en_Amsterdam_h12  0  de_Amsterdam_h6  4  0.486041  wordembedding\n",
      "113  en_Amsterdam_h12  0  de_Amsterdam_h2  5  0.474798  wordembedding\n",
      "114  en_Amsterdam_h12  0  de_Amsterdam_h4  6  0.467368  wordembedding\n",
      "115  en_Amsterdam_h12  0  de_Amsterdam_h3  7  0.459507  wordembedding\n",
      "116  en_Amsterdam_h12  0  de_Amsterdam_h0  8  0.304977  wordembedding\n",
      "\n",
      "[117 rows x 6 columns]\n"
     ]
    }
   ],
   "source": [
    "getWordVectorSpace2Run(en_content, de_headline, DV_en_content, DV_de_headline, 'en','de', entity_name)"
   ]
  },
  {
   "cell_type": "code",
   "execution_count": null,
   "metadata": {
    "collapsed": true
   },
   "outputs": [],
   "source": []
  },
  {
   "cell_type": "code",
   "execution_count": null,
   "metadata": {
    "collapsed": true
   },
   "outputs": [],
   "source": []
  }
 ],
 "metadata": {
  "kernelspec": {
   "display_name": "Python 3",
   "language": "python",
   "name": "python3"
  },
  "language_info": {
   "codemirror_mode": {
    "name": "ipython",
    "version": 3
   },
   "file_extension": ".py",
   "mimetype": "text/x-python",
   "name": "python",
   "nbconvert_exporter": "python",
   "pygments_lexer": "ipython3",
   "version": "3.6.0"
  }
 },
 "nbformat": 4,
 "nbformat_minor": 2
}
